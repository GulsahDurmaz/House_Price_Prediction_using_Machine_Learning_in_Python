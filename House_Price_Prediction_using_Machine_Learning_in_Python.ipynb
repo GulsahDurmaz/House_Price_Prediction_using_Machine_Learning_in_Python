{
  "nbformat": 4,
  "nbformat_minor": 0,
  "metadata": {
    "colab": {
      "provenance": []
    },
    "kernelspec": {
      "name": "python3",
      "display_name": "Python 3"
    },
    "language_info": {
      "name": "python"
    }
  },
  "cells": [
    {
      "cell_type": "markdown",
      "source": [
        "#House Price Prediction using Machine Learning in Python"
      ],
      "metadata": {
        "id": "OXD0Mojw1Eu_"
      }
    },
    {
      "cell_type": "markdown",
      "source": [
        "##Data Set\n",
        "\n",
        "You can download the dataset from [this](https://docs.google.com/spreadsheets/d/1PzM4sQjuhlXbjVdiqqVu-qtnfHB9Zra-/edit?usp=sharing&ouid=104773012695175212531&rtpof=true&sd=true) link.\n",
        "\n",
        "The dataset contains 13 features :\n",
        "\n",
        "| No | Column Name       | Description                                                     |\n",
        "|----|-------------------|-----------------------------------------------------------------|\n",
        "| 1  | Id                | To count the records.                                           |\n",
        "| 2  | MSSubClass        | Identifies the type of dwelling involved in the sale.           |\n",
        "| 3  | MSZoning          | Identifies the general zoning classification of the sale.       |\n",
        "| 4  | LotArea           | Lot size in square feet.                                        |\n",
        "| 5  | LotConfig         | Configuration of the lot.                                       |\n",
        "| 6  | BldgType          | Type of dwelling.                                               |\n",
        "| 7  | OverallCond       | Rates the overall condition of the house.                       |\n",
        "| 8  | YearBuilt         | Original construction year.                                     |\n",
        "| 9  | YearRemodAdd      | Remodel date (same as construction date if no remodeling or additions). |\n",
        "| 10 | Exterior1st       | Exterior covering on house.                                     |\n",
        "| 11 | BsmtFinSF2        | Type 2 finished square feet.                                    |\n",
        "| 12 | TotalBsmtSF       | Total square feet of basement area.                             |\n",
        "| 13 | SalePrice         | To be predicted.                                                |\n",
        "\n",
        "\n",
        "**Hint**: Load one from sklearn"
      ],
      "metadata": {
        "id": "MzttQVFy5H--"
      }
    },
    {
      "cell_type": "markdown",
      "source": [
        "# Importing Libraries and Dataset\n",
        "\n",
        "Here we are using:\n",
        "\n",
        "- **Pandas** – To load the Dataframe\n",
        "- **Matplotlib** – To visualize the data features i.e. barplot\n",
        "- **Seaborn** – To see the correlation between features using heatmap\n"
      ],
      "metadata": {
        "id": "OeNjCGQg5rZE"
      }
    },
    {
      "cell_type": "code",
      "source": [
        "# Step 1: Mount Google Drive\n",
        "from google.colab import drive\n",
        "drive.mount('/content/drive/')\n",
        "\n",
        "# Step 2: Import the necessary libraries\n",
        "import pandas as pd\n",
        "import matplotlib.pyplot as plt\n",
        "import seaborn as sns\n",
        "\n",
        "# Step 3: Load the dataset from Google Drive\n",
        "file_path = '/content/drive/MyDrive/REDI_FINAL_DURMAZ/HousePricePrediction.xlsx'\n",
        "dataset = pd.read_excel(file_path)\n",
        "\n",
        "# Step 4: Print the first 5 records of the dataset\n",
        "print(dataset.head(5))"
      ],
      "metadata": {
        "colab": {
          "base_uri": "https://localhost:8080/"
        },
        "id": "KGak3Des58BK",
        "outputId": "f960c9b8-9ce0-456d-8138-5fffde4ec9ff"
      },
      "execution_count": 1,
      "outputs": [
        {
          "output_type": "stream",
          "name": "stdout",
          "text": [
            "Mounted at /content/drive/\n",
            "   Id  MSSubClass MSZoning  LotArea LotConfig BldgType  OverallCond  \\\n",
            "0   0          60       RL     8450    Inside     1Fam            5   \n",
            "1   1          20       RL     9600       FR2     1Fam            8   \n",
            "2   2          60       RL    11250    Inside     1Fam            5   \n",
            "3   3          70       RL     9550    Corner     1Fam            5   \n",
            "4   4          60       RL    14260       FR2     1Fam            5   \n",
            "\n",
            "   YearBuilt  YearRemodAdd Exterior1st  BsmtFinSF2  TotalBsmtSF  SalePrice  \n",
            "0       2003          2003     VinylSd         0.0        856.0   208500.0  \n",
            "1       1976          1976     MetalSd         0.0       1262.0   181500.0  \n",
            "2       2001          2002     VinylSd         0.0        920.0   223500.0  \n",
            "3       1915          1970     Wd Sdng         0.0        756.0   140000.0  \n",
            "4       2000          2000     VinylSd         0.0       1145.0   250000.0  \n"
          ]
        }
      ]
    },
    {
      "cell_type": "code",
      "source": [
        "# Shape method will show us the dimension of the dataset.\n",
        "dataset.shape"
      ],
      "metadata": {
        "colab": {
          "base_uri": "https://localhost:8080/"
        },
        "id": "0io5Nh_W_iFX",
        "outputId": "7cfafccf-3fa6-4e33-8bbd-0186e38653d9"
      },
      "execution_count": 3,
      "outputs": [
        {
          "output_type": "execute_result",
          "data": {
            "text/plain": [
              "(2919, 13)"
            ]
          },
          "metadata": {},
          "execution_count": 3
        }
      ]
    },
    {
      "cell_type": "markdown",
      "source": [
        "# Data Preprocessing\n",
        "\n",
        "Now, we categorize the features depending on their datatype (int, float, object) and then calculate the number of them."
      ],
      "metadata": {
        "id": "njDqyZmeA85s"
      }
    },
    {
      "cell_type": "code",
      "source": [
        "dataset.dtypes"
      ],
      "metadata": {
        "colab": {
          "base_uri": "https://localhost:8080/"
        },
        "id": "qfMPy-nxDKMO",
        "outputId": "59a56f79-0288-4408-bf5a-f7e9aca2ed52"
      },
      "execution_count": 4,
      "outputs": [
        {
          "output_type": "execute_result",
          "data": {
            "text/plain": [
              "Id                int64\n",
              "MSSubClass        int64\n",
              "MSZoning         object\n",
              "LotArea           int64\n",
              "LotConfig        object\n",
              "BldgType         object\n",
              "OverallCond       int64\n",
              "YearBuilt         int64\n",
              "YearRemodAdd      int64\n",
              "Exterior1st      object\n",
              "BsmtFinSF2      float64\n",
              "TotalBsmtSF     float64\n",
              "SalePrice       float64\n",
              "dtype: object"
            ]
          },
          "metadata": {},
          "execution_count": 4
        }
      ]
    },
    {
      "cell_type": "code",
      "source": [
        "obj_ = (dataset.dtypes == 'object')\n",
        "# print (obj_)\n",
        "# object_col = list(obj_)\n",
        "# print (object_col)\n",
        "# object_col2 = list(obj_[obj_])\n",
        "# print (object_col2)\n",
        "object_cols = list(obj_[obj_].index)\n",
        "# print (object_cols)\n",
        "print(\"Categorical variables:\",len(object_cols))\n",
        "\n",
        "int_ = (dataset.dtypes == 'int')\n",
        "num_cols = list(int_[int_].index)\n",
        "print(\"Integer variables:\",len(num_cols))\n",
        "\n",
        "fl_ = (dataset.dtypes == 'float')\n",
        "fl_cols = list(fl_[fl_].index)\n",
        "print(\"Float variables:\",len(fl_cols))"
      ],
      "metadata": {
        "colab": {
          "base_uri": "https://localhost:8080/"
        },
        "id": "CxWi1cUhBDza",
        "outputId": "6ea260ab-20dd-4f9e-b369-b488014a56ea"
      },
      "execution_count": 5,
      "outputs": [
        {
          "output_type": "stream",
          "name": "stdout",
          "text": [
            "Categorical variables: 4\n",
            "Integer variables: 6\n",
            "Float variables: 3\n"
          ]
        }
      ]
    },
    {
      "cell_type": "markdown",
      "source": [
        "# Exploratory Data Analysis\n",
        "\n",
        "EDA refers to the deep analysis of data so as to discover different patterns and spot anomalies. Before making inferences from data it is essential to examine all your variables.\n",
        "\n",
        "Categorical columns (object type) cannot be included in the correlation matrix because correlation is only meaningful for numeric data. Thus, we need to exclude the categorical columns from our dataset before computing the correlation matrix.\n",
        "\n",
        "So here let’s make a **heatmap** using seaborn library."
      ],
      "metadata": {
        "id": "yt-Oaybq9x9R"
      }
    },
    {
      "cell_type": "markdown",
      "source": [],
      "metadata": {
        "id": "kMo_cxVjA3HG"
      }
    },
    {
      "cell_type": "code",
      "source": [
        "# Extract only the numeric columns from the dataset\n",
        "numeric_cols = dataset.select_dtypes(include=['int64', 'float64']).columns\n",
        "# print (\"numeric_cols\", numeric_cols)\n",
        "numeric_data = dataset[numeric_cols]\n",
        "# print (numeric_data)\n",
        "\n",
        "# Create the Heatmap\n",
        "plt.figure(figsize=(12, 6))\n",
        "sns.heatmap(numeric_data.corr(),\n",
        "            cmap='BuPu',\n",
        "            annot=True,  # annot=True added to show correlation values in cells\n",
        "            fmt='.2f',\n",
        "            linewidths=2)\n",
        "plt.title('Correlation Matrix')\n",
        "plt.show()"
      ],
      "metadata": {
        "id": "ovuMagv3A2bL",
        "colab": {
          "base_uri": "https://localhost:8080/",
          "height": 634
        },
        "outputId": "03a8d1a6-fb37-41e4-9738-a62a35edcc0f"
      },
      "execution_count": 6,
      "outputs": [
        {
          "output_type": "display_data",
          "data": {
            "text/plain": [
              "<Figure size 1200x600 with 2 Axes>"
            ],
            "image/png": "[encoded data removed]"
          },
          "metadata": {}
        }
      ]
    },
    {
      "cell_type": "markdown",
      "source": [
        "There is a correlation between 'Sale Price' and 'TotalBsmtFinSF2', 'YearBuilt', 'YearRemodAdd'"
      ],
      "metadata": {
        "id": "20RacdOXBMi_"
      }
    },
    {
      "cell_type": "markdown",
      "source": [
        "To analyze the different categorical features we use the barplot."
      ],
      "metadata": {
        "id": "vFIh-7aIU1vj"
      }
    },
    {
      "cell_type": "code",
      "source": [
        "unique_values = []\n",
        "for col in object_cols:\n",
        "  unique_values.append(dataset[col].unique().size)\n",
        "  # print(dataset[col].unique())\n",
        "plt.figure(figsize=(8,4))\n",
        "plt.title('No. Unique values of Categorical Features')\n",
        "plt.xticks(rotation=45)\n",
        "sns.barplot(x=object_cols,y=unique_values, palette='BuPu')"
      ],
      "metadata": {
        "colab": {
          "base_uri": "https://localhost:8080/",
          "height": 538
        },
        "id": "AKfUjiLbVBjB",
        "outputId": "7b61b002-df1d-49ee-cfc3-da1c8d8e7c83"
      },
      "execution_count": 10,
      "outputs": [
        {
          "output_type": "stream",
          "name": "stderr",
          "text": [
            "<ipython-input-10-d3d737fb2778>:8: FutureWarning: \n",
            "\n",
            "Passing `palette` without assigning `hue` is deprecated and will be removed in v0.14.0. Assign the `x` variable to `hue` and set `legend=False` for the same effect.\n",
            "\n",
            "  sns.barplot(x=object_cols,y=unique_values, palette='BuPu')\n"
          ]
        },
        {
          "output_type": "execute_result",
          "data": {
            "text/plain": [
              "<Axes: title={'center': 'No. Unique values of Categorical Features'}>"
            ]
          },
          "metadata": {},
          "execution_count": 10
        },
        {
          "output_type": "display_data",
          "data": {
            "text/plain": [
              "<Figure size 800x400 with 1 Axes>"
            ],
            "image/png": "[encoded data removed]"
          },
          "metadata": {}
        }
      ]
    },
    {
      "cell_type": "markdown",
      "source": [
        "The plot shows that Exterior1st has around 16 unique categories and other features have around  6 unique categories. To find out the actual count of each category we can plot the bar graph of each four features separately."
      ],
      "metadata": {
        "id": "vnq7aNVhFAmh"
      }
    },
    {
      "cell_type": "code",
      "source": [
        "plt.figure(figsize=(18, 36))\n",
        "plt.title('Categorical Features: Distribution')\n",
        "plt.xticks(rotation=90)\n",
        "index = 1\n",
        "\n",
        "for col in object_cols:\n",
        "\ty = dataset[col].value_counts()\n",
        "\tplt.subplot(11, 4, index)\n",
        "\tplt.xticks(rotation=45)\n",
        "\tsns.barplot(x=list(y.index), y=y, palette='BuPu')\n",
        "\tindex += 1"
      ],
      "metadata": {
        "colab": {
          "base_uri": "https://localhost:8080/",
          "height": 682
        },
        "id": "N65DB7f3FCEr",
        "outputId": "ba35fc30-f1bf-4bbb-92dc-a43a6db296cc"
      },
      "execution_count": 11,
      "outputs": [
        {
          "output_type": "stream",
          "name": "stderr",
          "text": [
            "<ipython-input-11-927b111cde12>:8: MatplotlibDeprecationWarning: Auto-removal of overlapping axes is deprecated since 3.6 and will be removed two minor releases later; explicitly call ax.remove() as needed.\n",
            "  plt.subplot(11, 4, index)\n",
            "<ipython-input-11-927b111cde12>:10: FutureWarning: \n",
            "\n",
            "Passing `palette` without assigning `hue` is deprecated and will be removed in v0.14.0. Assign the `x` variable to `hue` and set `legend=False` for the same effect.\n",
            "\n",
            "  sns.barplot(x=list(y.index), y=y, palette='BuPu')\n",
            "<ipython-input-11-927b111cde12>:10: FutureWarning: \n",
            "\n",
            "Passing `palette` without assigning `hue` is deprecated and will be removed in v0.14.0. Assign the `x` variable to `hue` and set `legend=False` for the same effect.\n",
            "\n",
            "  sns.barplot(x=list(y.index), y=y, palette='BuPu')\n",
            "<ipython-input-11-927b111cde12>:10: FutureWarning: \n",
            "\n",
            "Passing `palette` without assigning `hue` is deprecated and will be removed in v0.14.0. Assign the `x` variable to `hue` and set `legend=False` for the same effect.\n",
            "\n",
            "  sns.barplot(x=list(y.index), y=y, palette='BuPu')\n",
            "<ipython-input-11-927b111cde12>:10: FutureWarning: \n",
            "\n",
            "Passing `palette` without assigning `hue` is deprecated and will be removed in v0.14.0. Assign the `x` variable to `hue` and set `legend=False` for the same effect.\n",
            "\n",
            "  sns.barplot(x=list(y.index), y=y, palette='BuPu')\n"
          ]
        },
        {
          "output_type": "display_data",
          "data": {
            "text/plain": [
              "<Figure size 1800x3600 with 4 Axes>"
            ],
            "image/png": "[encoded data removed]"
          },
          "metadata": {}
        }
      ]
    },
    {
      "cell_type": "markdown",
      "source": [
        "# Data Cleaning\n",
        "\n",
        "Data Cleaning is the way to improvise the data or remove incorrect, corrupted or irrelevant data.\n",
        "\n",
        "As in our dataset, there are some columns that are not important and irrelevant for the model training. So, we can drop that column before training. There are 2 approaches to dealing with empty/null values\n",
        "\n",
        "- We can easily delete the column/row (if the feature or record is not much important).\n",
        "- Filling the empty slots with mean/mode/0/NA/etc. (depending on the dataset requirement).\n",
        "As Id Column will not be participating in any prediction. So we can Drop it."
      ],
      "metadata": {
        "id": "EnnwxeoKEw8k"
      }
    },
    {
      "cell_type": "code",
      "source": [
        "print(dataset.columns)\n",
        "missing_in_SalePrice = dataset['SalePrice'].isnull().sum()\n",
        "print (missing_in_SalePrice)"
      ],
      "metadata": {
        "colab": {
          "base_uri": "https://localhost:8080/"
        },
        "id": "f8pIVFETHrVJ",
        "outputId": "c2e653ab-484c-4b9e-cd07-09358847ced4"
      },
      "execution_count": 12,
      "outputs": [
        {
          "output_type": "stream",
          "name": "stdout",
          "text": [
            "Index(['Id', 'MSSubClass', 'MSZoning', 'LotArea', 'LotConfig', 'BldgType',\n",
            "       'OverallCond', 'YearBuilt', 'YearRemodAdd', 'Exterior1st', 'BsmtFinSF2',\n",
            "       'TotalBsmtSF', 'SalePrice'],\n",
            "      dtype='object')\n",
            "1459\n"
          ]
        }
      ]
    },
    {
      "cell_type": "code",
      "source": [
        "dataset['SalePrice'] = dataset['SalePrice'].fillna(\n",
        "dataset['SalePrice'].mean())"
      ],
      "metadata": {
        "id": "NaYSpHDrFHgC"
      },
      "execution_count": 13,
      "outputs": []
    },
    {
      "cell_type": "code",
      "source": [
        "missing_values= dataset.isnull().sum()\n",
        "print (missing_values)"
      ],
      "metadata": {
        "colab": {
          "base_uri": "https://localhost:8080/"
        },
        "id": "YiPfn9V8LMjC",
        "outputId": "5c431105-2cd6-4c7f-fb06-8658e358c0df"
      },
      "execution_count": 14,
      "outputs": [
        {
          "output_type": "stream",
          "name": "stdout",
          "text": [
            "Id              0\n",
            "MSSubClass      0\n",
            "MSZoning        4\n",
            "LotArea         0\n",
            "LotConfig       0\n",
            "BldgType        0\n",
            "OverallCond     0\n",
            "YearBuilt       0\n",
            "YearRemodAdd    0\n",
            "Exterior1st     1\n",
            "BsmtFinSF2      1\n",
            "TotalBsmtSF     1\n",
            "SalePrice       0\n",
            "dtype: int64\n"
          ]
        }
      ]
    },
    {
      "cell_type": "markdown",
      "source": [
        "Drop records with null values (as the empty records are very less)."
      ],
      "metadata": {
        "id": "xwIU0gNvLlut"
      }
    },
    {
      "cell_type": "code",
      "source": [
        "new_dataset = dataset.dropna()"
      ],
      "metadata": {
        "id": "i5PCqScaLnDt"
      },
      "execution_count": 15,
      "outputs": []
    },
    {
      "cell_type": "code",
      "source": [
        "missing_values= dataset.isnull().sum()\n",
        "print (\"dataset\")\n",
        "print (missing_values)\n",
        "print ('\\n')\n",
        "\n",
        "missing_values_new_dataset= new_dataset.isnull().sum()\n",
        "print (\"new_dataset\")\n",
        "print (missing_values_new_dataset)\n",
        "print ('\\n')"
      ],
      "metadata": {
        "colab": {
          "base_uri": "https://localhost:8080/"
        },
        "id": "d9gJ8F9NLto_",
        "outputId": "e3f0c0e8-f64d-44d5-8c23-438a4f25ca07"
      },
      "execution_count": 16,
      "outputs": [
        {
          "output_type": "stream",
          "name": "stdout",
          "text": [
            "dataset\n",
            "Id              0\n",
            "MSSubClass      0\n",
            "MSZoning        4\n",
            "LotArea         0\n",
            "LotConfig       0\n",
            "BldgType        0\n",
            "OverallCond     0\n",
            "YearBuilt       0\n",
            "YearRemodAdd    0\n",
            "Exterior1st     1\n",
            "BsmtFinSF2      1\n",
            "TotalBsmtSF     1\n",
            "SalePrice       0\n",
            "dtype: int64\n",
            "\n",
            "\n",
            "new_dataset\n",
            "Id              0\n",
            "MSSubClass      0\n",
            "MSZoning        0\n",
            "LotArea         0\n",
            "LotConfig       0\n",
            "BldgType        0\n",
            "OverallCond     0\n",
            "YearBuilt       0\n",
            "YearRemodAdd    0\n",
            "Exterior1st     0\n",
            "BsmtFinSF2      0\n",
            "TotalBsmtSF     0\n",
            "SalePrice       0\n",
            "dtype: int64\n",
            "\n",
            "\n"
          ]
        }
      ]
    },
    {
      "cell_type": "markdown",
      "source": [
        "# OneHotEncoder – For Label categorical features\n",
        "One hot Encoding is the best way to convert categorical data into binary vectors. This maps the values to integer values. By using OneHotEncoder, we can easily convert object data into int. So for that, firstly we have to collect all the features which have the object datatype. To do so, we will make a loop."
      ],
      "metadata": {
        "id": "OuAd6fIXbS0K"
      }
    },
    {
      "cell_type": "code",
      "source": [
        "from sklearn.preprocessing import OneHotEncoder\n",
        "\n",
        "s = (new_dataset.dtypes == 'object')\n",
        "object_cols = list(s[s].index)\n",
        "print(\"Categorical variables:\")\n",
        "print(object_cols)\n",
        "print('No. of. categorical features: ',\n",
        "\tlen(object_cols))\n"
      ],
      "metadata": {
        "colab": {
          "base_uri": "https://localhost:8080/"
        },
        "id": "9UAidYQqbSLU",
        "outputId": "967401e2-6848-4e4d-870e-1d3328e534e0"
      },
      "execution_count": 19,
      "outputs": [
        {
          "output_type": "stream",
          "name": "stdout",
          "text": [
            "Categorical variables:\n",
            "['MSZoning', 'LotConfig', 'BldgType', 'Exterior1st']\n",
            "No. of. categorical features:  4\n"
          ]
        }
      ]
    },
    {
      "cell_type": "code",
      "source": [
        "OH_encoder = OneHotEncoder(sparse_output=False)\n",
        "OH_cols = pd.DataFrame(OH_encoder.fit_transform(new_dataset[object_cols]))\n",
        "OH_cols.index = new_dataset.index\n",
        "# print (OH_cols.index)\n",
        "# print (new_dataset.index)\n",
        "OH_cols.columns = OH_encoder.get_feature_names_out()\n",
        "# print (OH_cols)\n",
        "# print (object_cols)\n",
        "df_final = new_dataset.drop(object_cols, axis=1)\n",
        "# print (df_final)\n",
        "df_final = pd.concat([df_final, OH_cols], axis=1)\n",
        "# print (df_final)"
      ],
      "metadata": {
        "id": "-EQ9WPqldiPe"
      },
      "execution_count": 20,
      "outputs": []
    },
    {
      "cell_type": "markdown",
      "source": [
        "# Splitting Dataset into Training and Testing\n",
        "X and Y splitting (i.e. Y is the SalePrice column and the rest of the other columns are X)"
      ],
      "metadata": {
        "id": "Lu3zNLE4EnCf"
      }
    },
    {
      "cell_type": "code",
      "source": [
        "from sklearn.metrics import mean_absolute_error\n",
        "from sklearn.model_selection import train_test_split\n",
        "\n",
        "X = df_final.drop(['SalePrice'], axis=1)\n",
        "Y = df_final['SalePrice']\n",
        "\n",
        "# Split the training set into\n",
        "# training and validation set\n",
        "X_train, X_valid, Y_train, Y_valid = train_test_split(\n",
        "\tX, Y, train_size=0.8, test_size=0.2, random_state=0)"
      ],
      "metadata": {
        "id": "Qt9PGO_pEzrW"
      },
      "execution_count": 22,
      "outputs": []
    },
    {
      "cell_type": "markdown",
      "source": [
        "# Model and Accuracy\n",
        "As we have to train the model to determine the continuous values, so we will be using these regression models.\n",
        "\n",
        "- SVM-Support Vector Machine\n",
        "- Random Forest Regressor\n",
        "- Linear Regressor\n",
        "\n",
        "To calculate loss we will be using the mean_absolute_percentage_error module. It can easily be imported by using sklearn library."
      ],
      "metadata": {
        "id": "ByHRfLrnKqWJ"
      }
    },
    {
      "cell_type": "markdown",
      "source": [
        "# SVM – Support vector Machine\n",
        "\n",
        "SVM can be used for both regression and classification model. It finds the hyperplane in the n-dimensional plane."
      ],
      "metadata": {
        "id": "C5Oow-EoK39M"
      }
    },
    {
      "cell_type": "code",
      "source": [
        "from sklearn import svm\n",
        "from sklearn.svm import SVC\n",
        "from sklearn.metrics import mean_absolute_percentage_error\n",
        "\n",
        "model_SVR = svm.SVR()\n",
        "model_SVR.fit(X_train,Y_train)\n",
        "Y_pred = model_SVR.predict(X_valid)\n",
        "\n",
        "print(mean_absolute_percentage_error(Y_valid, Y_pred))"
      ],
      "metadata": {
        "colab": {
          "base_uri": "https://localhost:8080/"
        },
        "id": "63RTGXqTK8XM",
        "outputId": "20f0275b-29cd-4787-cb4f-02fdbdc291ed"
      },
      "execution_count": 23,
      "outputs": [
        {
          "output_type": "stream",
          "name": "stdout",
          "text": [
            "0.18704778826125987\n"
          ]
        }
      ]
    },
    {
      "cell_type": "markdown",
      "source": [
        "# Random Forest Regression\n",
        "\n",
        "Random Forest is an ensemble technique that uses multiple of decision trees and can be used for both regression and classification tasks."
      ],
      "metadata": {
        "id": "1_wzb2_CLAXL"
      }
    },
    {
      "cell_type": "code",
      "source": [
        "from sklearn.ensemble import RandomForestRegressor\n",
        "\n",
        "model_RFR = RandomForestRegressor(n_estimators=10)\n",
        "model_RFR.fit(X_train, Y_train)\n",
        "Y_pred = model_RFR.predict(X_valid)\n",
        "\n",
        "mean_absolute_percentage_error(Y_valid, Y_pred)"
      ],
      "metadata": {
        "colab": {
          "base_uri": "https://localhost:8080/"
        },
        "id": "82_YLwzPLDjo",
        "outputId": "c39304ec-c0ac-43d0-8ccb-4f0cde582188"
      },
      "execution_count": 24,
      "outputs": [
        {
          "output_type": "execute_result",
          "data": {
            "text/plain": [
              "0.07802555146295966"
            ]
          },
          "metadata": {},
          "execution_count": 24
        }
      ]
    },
    {
      "cell_type": "markdown",
      "source": [
        "# Linear Regression\n",
        "\n",
        "Linear Regression predicts the final output-dependent value based on the given independent features. Like, here we have to predict SalePrice depending on features like MSSubClass, YearBuilt, BldgType, Exterior1st etc."
      ],
      "metadata": {
        "id": "6w0cX5GPLHrr"
      }
    },
    {
      "cell_type": "code",
      "source": [
        "from sklearn.linear_model import LinearRegression\n",
        "\n",
        "model_LR = LinearRegression()\n",
        "model_LR.fit(X_train, Y_train)\n",
        "Y_pred = model_LR.predict(X_valid)\n",
        "\n",
        "print(mean_absolute_percentage_error(Y_valid, Y_pred))"
      ],
      "metadata": {
        "colab": {
          "base_uri": "https://localhost:8080/"
        },
        "id": "nLAY9g1-LJpg",
        "outputId": "c9f8beaf-84ed-4a6c-bbbc-667f12fb5cf6"
      },
      "execution_count": 25,
      "outputs": [
        {
          "output_type": "stream",
          "name": "stdout",
          "text": [
            "0.18633155158087458\n"
          ]
        }
      ]
    },
    {
      "cell_type": "markdown",
      "source": [
        "# Calculating R²"
      ],
      "metadata": {
        "id": "f8YYCl-v6nZw"
      }
    },
    {
      "cell_type": "code",
      "source": [
        "from sklearn.metrics import r2_score\n",
        "r2 = r2_score(Y_valid, Y_pred)\n",
        "print(f\"R²: {r2}\")"
      ],
      "metadata": {
        "colab": {
          "base_uri": "https://localhost:8080/"
        },
        "id": "SpBFRBc_58YQ",
        "outputId": "991385ff-616f-4949-83f0-0a32bee026fc"
      },
      "execution_count": 26,
      "outputs": [
        {
          "output_type": "stream",
          "name": "stdout",
          "text": [
            "R²: 0.37504998727464645\n"
          ]
        }
      ]
    },
    {
      "cell_type": "markdown",
      "source": [
        "# CatBoost Classifier\n",
        "\n",
        "CatBoost is a machine learning algorithm implemented by Yandex and is open-source. It is simple to interface with deep learning frameworks such as Apple’s Core ML and Google’s TensorFlow. Performance, ease-of-use, and robustness are the main advantages of the CatBoost library."
      ],
      "metadata": {
        "id": "sC5zH-sSLPvF"
      }
    },
    {
      "cell_type": "code",
      "source": [
        "!pip install catboost"
      ],
      "metadata": {
        "colab": {
          "base_uri": "https://localhost:8080/"
        },
        "id": "xDFYASJLLx7l",
        "outputId": "c04f6648-be57-4a7e-a623-d362dd7c3c1e"
      },
      "execution_count": 29,
      "outputs": [
        {
          "output_type": "stream",
          "name": "stdout",
          "text": [
            "Collecting catboost\n",
            "  Downloading catboost-1.2.5-cp310-cp310-manylinux2014_x86_64.whl (98.2 MB)\n",
            "\u001b[2K     \u001b[90m━━━━━━━━━━━━━━━━━━━━━━━━━━━━━━━━━━━━━━━━\u001b[0m \u001b[32m98.2/98.2 MB\u001b[0m \u001b[31m2.4 MB/s\u001b[0m eta \u001b[36m0:00:00\u001b[0m\n",
            "\u001b[?25hRequirement already satisfied: graphviz in /usr/local/lib/python3.10/dist-packages (from catboost) (0.20.3)\n",
            "Requirement already satisfied: matplotlib in /usr/local/lib/python3.10/dist-packages (from catboost) (3.7.1)\n",
            "Requirement already satisfied: numpy>=1.16.0 in /usr/local/lib/python3.10/dist-packages (from catboost) (1.25.2)\n",
            "Requirement already satisfied: pandas>=0.24 in /usr/local/lib/python3.10/dist-packages (from catboost) (2.0.3)\n",
            "Requirement already satisfied: scipy in /usr/local/lib/python3.10/dist-packages (from catboost) (1.11.4)\n",
            "Requirement already satisfied: plotly in /usr/local/lib/python3.10/dist-packages (from catboost) (5.15.0)\n",
            "Requirement already satisfied: six in /usr/local/lib/python3.10/dist-packages (from catboost) (1.16.0)\n",
            "Requirement already satisfied: python-dateutil>=2.8.2 in /usr/local/lib/python3.10/dist-packages (from pandas>=0.24->catboost) (2.8.2)\n",
            "Requirement already satisfied: pytz>=2020.1 in /usr/local/lib/python3.10/dist-packages (from pandas>=0.24->catboost) (2023.4)\n",
            "Requirement already satisfied: tzdata>=2022.1 in /usr/local/lib/python3.10/dist-packages (from pandas>=0.24->catboost) (2024.1)\n",
            "Requirement already satisfied: contourpy>=1.0.1 in /usr/local/lib/python3.10/dist-packages (from matplotlib->catboost) (1.2.1)\n",
            "Requirement already satisfied: cycler>=0.10 in /usr/local/lib/python3.10/dist-packages (from matplotlib->catboost) (0.12.1)\n",
            "Requirement already satisfied: fonttools>=4.22.0 in /usr/local/lib/python3.10/dist-packages (from matplotlib->catboost) (4.53.0)\n",
            "Requirement already satisfied: kiwisolver>=1.0.1 in /usr/local/lib/python3.10/dist-packages (from matplotlib->catboost) (1.4.5)\n",
            "Requirement already satisfied: packaging>=20.0 in /usr/local/lib/python3.10/dist-packages (from matplotlib->catboost) (24.1)\n",
            "Requirement already satisfied: pillow>=6.2.0 in /usr/local/lib/python3.10/dist-packages (from matplotlib->catboost) (9.4.0)\n",
            "Requirement already satisfied: pyparsing>=2.3.1 in /usr/local/lib/python3.10/dist-packages (from matplotlib->catboost) (3.1.2)\n",
            "Requirement already satisfied: tenacity>=6.2.0 in /usr/local/lib/python3.10/dist-packages (from plotly->catboost) (8.4.1)\n",
            "Installing collected packages: catboost\n",
            "Successfully installed catboost-1.2.5\n"
          ]
        }
      ]
    },
    {
      "cell_type": "code",
      "source": [
        "# This code is contributed by @amartajisce\n",
        "from catboost import CatBoostRegressor\n",
        "from sklearn.metrics import r2_score\n",
        "from sklearn.model_selection import train_test_split\n",
        "\n",
        "cb_model = CatBoostRegressor()\n",
        "cb_model.fit(X_train, Y_train)\n",
        "preds = cb_model.predict(X_valid)\n",
        "\n",
        "cb_r2_score=r2_score(Y_valid, preds)\n",
        "cb_r2_score"
      ],
      "metadata": {
        "colab": {
          "base_uri": "https://localhost:8080/"
        },
        "id": "h6smVH9hLPMq",
        "outputId": "5d8d2908-b269-4cd5-d9a7-daa4397f6a85"
      },
      "execution_count": 30,
      "outputs": [
        {
          "output_type": "stream",
          "name": "stdout",
          "text": [
            "Learning rate set to 0.046797\n",
            "0:\tlearn: 55858.4377716\ttotal: 80.6ms\tremaining: 1m 20s\n",
            "1:\tlearn: 54549.6738251\ttotal: 86.2ms\tremaining: 43s\n",
            "2:\tlearn: 53194.6163146\ttotal: 100ms\tremaining: 33.2s\n",
            "3:\tlearn: 52019.1348408\ttotal: 115ms\tremaining: 28.6s\n",
            "4:\tlearn: 50821.2323253\ttotal: 129ms\tremaining: 25.7s\n",
            "5:\tlearn: 49729.4388396\ttotal: 136ms\tremaining: 22.5s\n",
            "6:\tlearn: 48728.8850805\ttotal: 150ms\tremaining: 21.3s\n",
            "7:\tlearn: 47843.2737463\ttotal: 163ms\tremaining: 20.3s\n",
            "8:\tlearn: 46753.9666335\ttotal: 176ms\tremaining: 19.4s\n",
            "9:\tlearn: 45775.4479191\ttotal: 201ms\tremaining: 19.9s\n",
            "10:\tlearn: 44954.7325349\ttotal: 213ms\tremaining: 19.2s\n",
            "11:\tlearn: 44098.7182761\ttotal: 237ms\tremaining: 19.5s\n",
            "12:\tlearn: 43225.8648186\ttotal: 248ms\tremaining: 18.8s\n",
            "13:\tlearn: 42430.6865961\ttotal: 274ms\tremaining: 19.3s\n",
            "14:\tlearn: 41719.8701086\ttotal: 292ms\tremaining: 19.1s\n",
            "15:\tlearn: 41130.2588022\ttotal: 311ms\tremaining: 19.2s\n",
            "16:\tlearn: 40498.3072297\ttotal: 342ms\tremaining: 19.8s\n",
            "17:\tlearn: 39806.6880976\ttotal: 365ms\tremaining: 19.9s\n",
            "18:\tlearn: 39214.0314605\ttotal: 388ms\tremaining: 20s\n",
            "19:\tlearn: 38682.6237743\ttotal: 415ms\tremaining: 20.3s\n",
            "20:\tlearn: 38164.2556690\ttotal: 442ms\tremaining: 20.6s\n",
            "21:\tlearn: 37534.4311398\ttotal: 480ms\tremaining: 21.3s\n",
            "22:\tlearn: 36997.4079989\ttotal: 512ms\tremaining: 21.7s\n",
            "23:\tlearn: 36423.5034771\ttotal: 548ms\tremaining: 22.3s\n",
            "24:\tlearn: 36020.7588628\ttotal: 585ms\tremaining: 22.8s\n",
            "25:\tlearn: 35623.1058424\ttotal: 622ms\tremaining: 23.3s\n",
            "26:\tlearn: 35186.3599624\ttotal: 659ms\tremaining: 23.8s\n",
            "27:\tlearn: 34738.3268897\ttotal: 707ms\tremaining: 24.5s\n",
            "28:\tlearn: 34382.3058432\ttotal: 755ms\tremaining: 25.3s\n",
            "29:\tlearn: 33997.7580457\ttotal: 807ms\tremaining: 26.1s\n",
            "30:\tlearn: 33641.3497760\ttotal: 865ms\tremaining: 27.1s\n",
            "31:\tlearn: 33170.4942463\ttotal: 903ms\tremaining: 27.3s\n",
            "32:\tlearn: 32760.5379918\ttotal: 921ms\tremaining: 27s\n",
            "33:\tlearn: 32306.5406399\ttotal: 955ms\tremaining: 27.1s\n",
            "34:\tlearn: 31965.7165667\ttotal: 983ms\tremaining: 27.1s\n",
            "35:\tlearn: 31624.7871194\ttotal: 1.02s\tremaining: 27.3s\n",
            "36:\tlearn: 31329.9416414\ttotal: 1.04s\tremaining: 27.1s\n",
            "37:\tlearn: 31065.1354512\ttotal: 1.07s\tremaining: 27s\n",
            "38:\tlearn: 30795.9986287\ttotal: 1.1s\tremaining: 27.1s\n",
            "39:\tlearn: 30611.4564745\ttotal: 1.14s\tremaining: 27.5s\n",
            "40:\tlearn: 30401.9228587\ttotal: 1.17s\tremaining: 27.4s\n",
            "41:\tlearn: 30161.5015242\ttotal: 1.21s\tremaining: 27.5s\n",
            "42:\tlearn: 29838.2685110\ttotal: 1.24s\tremaining: 27.6s\n",
            "43:\tlearn: 29639.5578264\ttotal: 1.28s\tremaining: 27.7s\n",
            "44:\tlearn: 29435.8828100\ttotal: 1.29s\tremaining: 27.4s\n",
            "45:\tlearn: 29164.1567487\ttotal: 1.32s\tremaining: 27.4s\n",
            "46:\tlearn: 28975.3286348\ttotal: 1.36s\tremaining: 27.7s\n",
            "47:\tlearn: 28719.8439462\ttotal: 1.39s\tremaining: 27.6s\n",
            "48:\tlearn: 28535.7960070\ttotal: 1.42s\tremaining: 27.6s\n",
            "49:\tlearn: 28430.0028002\ttotal: 1.46s\tremaining: 27.7s\n",
            "50:\tlearn: 28241.1452163\ttotal: 1.49s\tremaining: 27.7s\n",
            "51:\tlearn: 28096.5584847\ttotal: 1.51s\tremaining: 27.5s\n",
            "52:\tlearn: 27943.7211494\ttotal: 1.55s\tremaining: 27.8s\n",
            "53:\tlearn: 27828.2119537\ttotal: 1.58s\tremaining: 27.8s\n",
            "54:\tlearn: 27688.8254619\ttotal: 1.61s\tremaining: 27.7s\n",
            "55:\tlearn: 27563.7252054\ttotal: 1.64s\tremaining: 27.6s\n",
            "56:\tlearn: 27482.3710634\ttotal: 1.66s\tremaining: 27.5s\n",
            "57:\tlearn: 27304.6807271\ttotal: 1.68s\tremaining: 27.2s\n",
            "58:\tlearn: 27165.4743034\ttotal: 1.71s\tremaining: 27.3s\n",
            "59:\tlearn: 26922.3433554\ttotal: 1.77s\tremaining: 27.8s\n",
            "60:\tlearn: 26812.8756532\ttotal: 1.81s\tremaining: 27.9s\n",
            "61:\tlearn: 26588.3391843\ttotal: 1.85s\tremaining: 28.1s\n",
            "62:\tlearn: 26440.6249730\ttotal: 1.89s\tremaining: 28.1s\n",
            "63:\tlearn: 26285.7666553\ttotal: 1.92s\tremaining: 28.1s\n",
            "64:\tlearn: 26181.1550052\ttotal: 1.95s\tremaining: 28.1s\n",
            "65:\tlearn: 25962.9204179\ttotal: 2s\tremaining: 28.4s\n",
            "66:\tlearn: 25874.9011121\ttotal: 2.02s\tremaining: 28.2s\n",
            "67:\tlearn: 25800.2792285\ttotal: 2.03s\tremaining: 27.9s\n",
            "68:\tlearn: 25692.8052878\ttotal: 2.04s\tremaining: 27.6s\n",
            "69:\tlearn: 25616.0139331\ttotal: 2.05s\tremaining: 27.2s\n",
            "70:\tlearn: 25513.2378083\ttotal: 2.06s\tremaining: 26.9s\n",
            "71:\tlearn: 25331.9080522\ttotal: 2.07s\tremaining: 26.7s\n",
            "72:\tlearn: 25220.0304681\ttotal: 2.08s\tremaining: 26.4s\n",
            "73:\tlearn: 25112.0255747\ttotal: 2.09s\tremaining: 26.1s\n",
            "74:\tlearn: 25045.2906873\ttotal: 2.09s\tremaining: 25.8s\n",
            "75:\tlearn: 24903.2112814\ttotal: 2.11s\tremaining: 25.7s\n",
            "76:\tlearn: 24806.3918287\ttotal: 2.12s\tremaining: 25.4s\n",
            "77:\tlearn: 24693.4875662\ttotal: 2.13s\tremaining: 25.2s\n",
            "78:\tlearn: 24591.4604487\ttotal: 2.15s\tremaining: 25s\n",
            "79:\tlearn: 24506.2403405\ttotal: 2.16s\tremaining: 24.8s\n",
            "80:\tlearn: 24446.1762295\ttotal: 2.17s\tremaining: 24.6s\n",
            "81:\tlearn: 24327.1358161\ttotal: 2.17s\tremaining: 24.4s\n",
            "82:\tlearn: 24268.1621526\ttotal: 2.18s\tremaining: 24.1s\n",
            "83:\tlearn: 24175.5614962\ttotal: 2.19s\tremaining: 23.9s\n",
            "84:\tlearn: 24057.6701568\ttotal: 2.2s\tremaining: 23.7s\n",
            "85:\tlearn: 24013.2872923\ttotal: 2.21s\tremaining: 23.5s\n",
            "86:\tlearn: 23903.8288793\ttotal: 2.22s\tremaining: 23.3s\n",
            "87:\tlearn: 23838.6930651\ttotal: 2.23s\tremaining: 23.1s\n",
            "88:\tlearn: 23746.5143476\ttotal: 2.25s\tremaining: 23s\n",
            "89:\tlearn: 23642.3596548\ttotal: 2.26s\tremaining: 22.9s\n",
            "90:\tlearn: 23570.6420103\ttotal: 2.28s\tremaining: 22.8s\n",
            "91:\tlearn: 23522.1019479\ttotal: 2.29s\tremaining: 22.6s\n",
            "92:\tlearn: 23490.6117314\ttotal: 2.3s\tremaining: 22.4s\n",
            "93:\tlearn: 23391.9631907\ttotal: 2.31s\tremaining: 22.3s\n",
            "94:\tlearn: 23318.8362968\ttotal: 2.32s\tremaining: 22.1s\n",
            "95:\tlearn: 23230.8036124\ttotal: 2.33s\tremaining: 21.9s\n",
            "96:\tlearn: 23164.0810495\ttotal: 2.34s\tremaining: 21.8s\n",
            "97:\tlearn: 23091.3790816\ttotal: 2.35s\tremaining: 21.6s\n",
            "98:\tlearn: 23063.9857014\ttotal: 2.36s\tremaining: 21.5s\n",
            "99:\tlearn: 22992.2686644\ttotal: 2.37s\tremaining: 21.3s\n",
            "100:\tlearn: 22923.6208230\ttotal: 2.38s\tremaining: 21.2s\n",
            "101:\tlearn: 22892.5522649\ttotal: 2.39s\tremaining: 21s\n",
            "102:\tlearn: 22785.2639403\ttotal: 2.39s\tremaining: 20.9s\n",
            "103:\tlearn: 22692.5102500\ttotal: 2.4s\tremaining: 20.7s\n",
            "104:\tlearn: 22671.3968729\ttotal: 2.41s\tremaining: 20.6s\n",
            "105:\tlearn: 22630.8111703\ttotal: 2.42s\tremaining: 20.4s\n",
            "106:\tlearn: 22547.9630082\ttotal: 2.43s\tremaining: 20.3s\n",
            "107:\tlearn: 22523.4211805\ttotal: 2.43s\tremaining: 20.1s\n",
            "108:\tlearn: 22472.3281515\ttotal: 2.44s\tremaining: 20s\n",
            "109:\tlearn: 22392.8885116\ttotal: 2.46s\tremaining: 19.9s\n",
            "110:\tlearn: 22372.5847264\ttotal: 2.47s\tremaining: 19.8s\n",
            "111:\tlearn: 22301.6730334\ttotal: 2.47s\tremaining: 19.6s\n",
            "112:\tlearn: 22258.8457774\ttotal: 2.48s\tremaining: 19.5s\n",
            "113:\tlearn: 22192.9754930\ttotal: 2.49s\tremaining: 19.3s\n",
            "114:\tlearn: 22146.6290962\ttotal: 2.5s\tremaining: 19.2s\n",
            "115:\tlearn: 22094.7415955\ttotal: 2.51s\tremaining: 19.1s\n",
            "116:\tlearn: 22031.9891619\ttotal: 2.51s\tremaining: 19s\n",
            "117:\tlearn: 21998.2661413\ttotal: 2.52s\tremaining: 18.8s\n",
            "118:\tlearn: 21939.6372200\ttotal: 2.53s\tremaining: 18.8s\n",
            "119:\tlearn: 21923.5955078\ttotal: 2.54s\tremaining: 18.6s\n",
            "120:\tlearn: 21883.1519342\ttotal: 2.56s\tremaining: 18.6s\n",
            "121:\tlearn: 21852.9600379\ttotal: 2.58s\tremaining: 18.6s\n",
            "122:\tlearn: 21789.1230825\ttotal: 2.59s\tremaining: 18.4s\n",
            "123:\tlearn: 21727.3796784\ttotal: 2.59s\tremaining: 18.3s\n",
            "124:\tlearn: 21671.9109369\ttotal: 2.6s\tremaining: 18.2s\n",
            "125:\tlearn: 21652.0116588\ttotal: 2.6s\tremaining: 18.1s\n",
            "126:\tlearn: 21576.7141144\ttotal: 2.61s\tremaining: 18s\n",
            "127:\tlearn: 21509.2840368\ttotal: 2.62s\tremaining: 17.9s\n",
            "128:\tlearn: 21454.4491333\ttotal: 2.63s\tremaining: 17.7s\n",
            "129:\tlearn: 21421.1675292\ttotal: 2.63s\tremaining: 17.6s\n",
            "130:\tlearn: 21381.8772562\ttotal: 2.64s\tremaining: 17.5s\n",
            "131:\tlearn: 21305.8221219\ttotal: 2.64s\tremaining: 17.4s\n",
            "132:\tlearn: 21287.7533783\ttotal: 2.65s\tremaining: 17.3s\n",
            "133:\tlearn: 21264.8818511\ttotal: 2.66s\tremaining: 17.2s\n",
            "134:\tlearn: 21197.2326152\ttotal: 2.66s\tremaining: 17.1s\n",
            "135:\tlearn: 21171.7960139\ttotal: 2.67s\tremaining: 17s\n",
            "136:\tlearn: 21131.5717530\ttotal: 2.68s\tremaining: 16.9s\n",
            "137:\tlearn: 21044.5322049\ttotal: 2.69s\tremaining: 16.8s\n",
            "138:\tlearn: 21012.3282543\ttotal: 2.69s\tremaining: 16.7s\n",
            "139:\tlearn: 20974.2144037\ttotal: 2.7s\tremaining: 16.6s\n",
            "140:\tlearn: 20914.3476432\ttotal: 2.71s\tremaining: 16.5s\n",
            "141:\tlearn: 20896.0794593\ttotal: 2.71s\tremaining: 16.4s\n",
            "142:\tlearn: 20870.8500785\ttotal: 2.72s\tremaining: 16.3s\n",
            "143:\tlearn: 20800.8579984\ttotal: 2.73s\tremaining: 16.2s\n",
            "144:\tlearn: 20765.9433684\ttotal: 2.74s\tremaining: 16.2s\n",
            "145:\tlearn: 20724.6180199\ttotal: 2.75s\tremaining: 16.1s\n",
            "146:\tlearn: 20675.1476525\ttotal: 2.76s\tremaining: 16s\n",
            "147:\tlearn: 20634.4615803\ttotal: 2.77s\tremaining: 16s\n",
            "148:\tlearn: 20599.4218039\ttotal: 2.78s\tremaining: 15.9s\n",
            "149:\tlearn: 20560.5944894\ttotal: 2.79s\tremaining: 15.8s\n",
            "150:\tlearn: 20530.2253127\ttotal: 2.8s\tremaining: 15.7s\n",
            "151:\tlearn: 20499.9845410\ttotal: 2.81s\tremaining: 15.7s\n",
            "152:\tlearn: 20448.0560741\ttotal: 2.82s\tremaining: 15.6s\n",
            "153:\tlearn: 20407.2030633\ttotal: 2.83s\tremaining: 15.6s\n",
            "154:\tlearn: 20384.9896952\ttotal: 2.85s\tremaining: 15.5s\n",
            "155:\tlearn: 20366.3573965\ttotal: 2.86s\tremaining: 15.5s\n",
            "156:\tlearn: 20340.0567182\ttotal: 2.88s\tremaining: 15.5s\n",
            "157:\tlearn: 20307.2343233\ttotal: 2.9s\tremaining: 15.5s\n",
            "158:\tlearn: 20236.3719536\ttotal: 2.93s\tremaining: 15.5s\n",
            "159:\tlearn: 20203.1628283\ttotal: 2.95s\tremaining: 15.5s\n",
            "160:\tlearn: 20166.2020118\ttotal: 2.97s\tremaining: 15.5s\n",
            "161:\tlearn: 20154.8495146\ttotal: 2.98s\tremaining: 15.4s\n",
            "162:\tlearn: 20124.1492897\ttotal: 2.99s\tremaining: 15.4s\n",
            "163:\tlearn: 20087.1484129\ttotal: 3s\tremaining: 15.3s\n",
            "164:\tlearn: 20049.2338216\ttotal: 3.01s\tremaining: 15.2s\n",
            "165:\tlearn: 19997.7871342\ttotal: 3.03s\tremaining: 15.2s\n",
            "166:\tlearn: 19977.4316369\ttotal: 3.04s\tremaining: 15.1s\n",
            "167:\tlearn: 19920.1467508\ttotal: 3.05s\tremaining: 15.1s\n",
            "168:\tlearn: 19879.8708708\ttotal: 3.06s\tremaining: 15.1s\n",
            "169:\tlearn: 19867.2406329\ttotal: 3.08s\tremaining: 15s\n",
            "170:\tlearn: 19819.1836043\ttotal: 3.09s\tremaining: 15s\n",
            "171:\tlearn: 19776.9029942\ttotal: 3.1s\tremaining: 14.9s\n",
            "172:\tlearn: 19732.6846624\ttotal: 3.11s\tremaining: 14.9s\n",
            "173:\tlearn: 19700.1981825\ttotal: 3.12s\tremaining: 14.8s\n",
            "174:\tlearn: 19672.3918398\ttotal: 3.13s\tremaining: 14.7s\n",
            "175:\tlearn: 19649.7914209\ttotal: 3.15s\tremaining: 14.7s\n",
            "176:\tlearn: 19629.0021586\ttotal: 3.16s\tremaining: 14.7s\n",
            "177:\tlearn: 19590.8468441\ttotal: 3.17s\tremaining: 14.7s\n",
            "178:\tlearn: 19558.8963635\ttotal: 3.18s\tremaining: 14.6s\n",
            "179:\tlearn: 19520.5611248\ttotal: 3.19s\tremaining: 14.5s\n",
            "180:\tlearn: 19496.1393569\ttotal: 3.2s\tremaining: 14.5s\n",
            "181:\tlearn: 19468.8894393\ttotal: 3.21s\tremaining: 14.4s\n",
            "182:\tlearn: 19390.7109709\ttotal: 3.21s\tremaining: 14.3s\n",
            "183:\tlearn: 19364.8297408\ttotal: 3.23s\tremaining: 14.3s\n",
            "184:\tlearn: 19340.4108384\ttotal: 3.24s\tremaining: 14.3s\n",
            "185:\tlearn: 19316.2105338\ttotal: 3.25s\tremaining: 14.2s\n",
            "186:\tlearn: 19276.6044351\ttotal: 3.27s\tremaining: 14.2s\n",
            "187:\tlearn: 19241.6886860\ttotal: 3.27s\tremaining: 14.1s\n",
            "188:\tlearn: 19224.7248595\ttotal: 3.28s\tremaining: 14.1s\n",
            "189:\tlearn: 19154.6936991\ttotal: 3.3s\tremaining: 14.1s\n",
            "190:\tlearn: 19131.7095051\ttotal: 3.31s\tremaining: 14s\n",
            "191:\tlearn: 19113.4996862\ttotal: 3.33s\tremaining: 14s\n",
            "192:\tlearn: 19086.6826966\ttotal: 3.34s\tremaining: 14s\n",
            "193:\tlearn: 19070.8985389\ttotal: 3.35s\tremaining: 13.9s\n",
            "194:\tlearn: 19042.1102059\ttotal: 3.36s\tremaining: 13.9s\n",
            "195:\tlearn: 19000.1295044\ttotal: 3.37s\tremaining: 13.8s\n",
            "196:\tlearn: 18978.5621401\ttotal: 3.38s\tremaining: 13.8s\n",
            "197:\tlearn: 18956.2608740\ttotal: 3.39s\tremaining: 13.7s\n",
            "198:\tlearn: 18930.5836485\ttotal: 3.4s\tremaining: 13.7s\n",
            "199:\tlearn: 18908.2911033\ttotal: 3.41s\tremaining: 13.7s\n",
            "200:\tlearn: 18888.2353062\ttotal: 3.43s\tremaining: 13.6s\n",
            "201:\tlearn: 18855.9886953\ttotal: 3.45s\tremaining: 13.6s\n",
            "202:\tlearn: 18828.1451923\ttotal: 3.46s\tremaining: 13.6s\n",
            "203:\tlearn: 18794.2506734\ttotal: 3.47s\tremaining: 13.5s\n",
            "204:\tlearn: 18780.7476397\ttotal: 3.48s\tremaining: 13.5s\n",
            "205:\tlearn: 18763.0138550\ttotal: 3.49s\tremaining: 13.5s\n",
            "206:\tlearn: 18720.7669442\ttotal: 3.51s\tremaining: 13.4s\n",
            "207:\tlearn: 18698.3520736\ttotal: 3.52s\tremaining: 13.4s\n",
            "208:\tlearn: 18680.6314140\ttotal: 3.53s\tremaining: 13.3s\n",
            "209:\tlearn: 18673.4057529\ttotal: 3.54s\tremaining: 13.3s\n",
            "210:\tlearn: 18647.7923062\ttotal: 3.55s\tremaining: 13.3s\n",
            "211:\tlearn: 18610.7154665\ttotal: 3.56s\tremaining: 13.2s\n",
            "212:\tlearn: 18599.8522331\ttotal: 3.57s\tremaining: 13.2s\n",
            "213:\tlearn: 18586.4071512\ttotal: 3.58s\tremaining: 13.2s\n",
            "214:\tlearn: 18555.3303706\ttotal: 3.6s\tremaining: 13.2s\n",
            "215:\tlearn: 18539.2323611\ttotal: 3.61s\tremaining: 13.1s\n",
            "216:\tlearn: 18528.0650802\ttotal: 3.63s\tremaining: 13.1s\n",
            "217:\tlearn: 18484.4864635\ttotal: 3.64s\tremaining: 13s\n",
            "218:\tlearn: 18459.6157204\ttotal: 3.65s\tremaining: 13s\n",
            "219:\tlearn: 18432.5065685\ttotal: 3.67s\tremaining: 13s\n",
            "220:\tlearn: 18416.6875408\ttotal: 3.68s\tremaining: 13s\n",
            "221:\tlearn: 18383.0141421\ttotal: 3.69s\tremaining: 12.9s\n",
            "222:\tlearn: 18360.6445495\ttotal: 3.7s\tremaining: 12.9s\n",
            "223:\tlearn: 18296.2412175\ttotal: 3.71s\tremaining: 12.8s\n",
            "224:\tlearn: 18285.4190487\ttotal: 3.72s\tremaining: 12.8s\n",
            "225:\tlearn: 18258.3536521\ttotal: 3.73s\tremaining: 12.8s\n",
            "226:\tlearn: 18228.3699244\ttotal: 3.74s\tremaining: 12.7s\n",
            "227:\tlearn: 18204.4311961\ttotal: 3.75s\tremaining: 12.7s\n",
            "228:\tlearn: 18158.8561626\ttotal: 3.76s\tremaining: 12.7s\n",
            "229:\tlearn: 18142.7280299\ttotal: 3.78s\tremaining: 12.6s\n",
            "230:\tlearn: 18114.1523071\ttotal: 3.79s\tremaining: 12.6s\n",
            "231:\tlearn: 18100.3414104\ttotal: 3.81s\tremaining: 12.6s\n",
            "232:\tlearn: 18092.4261280\ttotal: 3.82s\tremaining: 12.6s\n",
            "233:\tlearn: 18054.2903646\ttotal: 3.85s\tremaining: 12.6s\n",
            "234:\tlearn: 18038.2408494\ttotal: 3.87s\tremaining: 12.6s\n",
            "235:\tlearn: 17997.3955046\ttotal: 3.89s\tremaining: 12.6s\n",
            "236:\tlearn: 17970.9885331\ttotal: 3.9s\tremaining: 12.6s\n",
            "237:\tlearn: 17960.0213181\ttotal: 3.91s\tremaining: 12.5s\n",
            "238:\tlearn: 17944.0854641\ttotal: 3.93s\tremaining: 12.5s\n",
            "239:\tlearn: 17922.5860810\ttotal: 3.95s\tremaining: 12.5s\n",
            "240:\tlearn: 17880.4479654\ttotal: 3.96s\tremaining: 12.5s\n",
            "241:\tlearn: 17862.0157764\ttotal: 3.98s\tremaining: 12.5s\n",
            "242:\tlearn: 17833.2968607\ttotal: 3.99s\tremaining: 12.4s\n",
            "243:\tlearn: 17798.7148197\ttotal: 4.01s\tremaining: 12.4s\n",
            "244:\tlearn: 17756.6332265\ttotal: 4.03s\tremaining: 12.4s\n",
            "245:\tlearn: 17746.3409236\ttotal: 4.04s\tremaining: 12.4s\n",
            "246:\tlearn: 17722.2008036\ttotal: 4.08s\tremaining: 12.4s\n",
            "247:\tlearn: 17713.0487034\ttotal: 4.08s\tremaining: 12.4s\n",
            "248:\tlearn: 17681.7181089\ttotal: 4.13s\tremaining: 12.4s\n",
            "249:\tlearn: 17663.4422620\ttotal: 4.14s\tremaining: 12.4s\n",
            "250:\tlearn: 17656.5806188\ttotal: 4.15s\tremaining: 12.4s\n",
            "251:\tlearn: 17637.5997696\ttotal: 4.16s\tremaining: 12.3s\n",
            "252:\tlearn: 17619.9512439\ttotal: 4.17s\tremaining: 12.3s\n",
            "253:\tlearn: 17598.4029042\ttotal: 4.18s\tremaining: 12.3s\n",
            "254:\tlearn: 17578.9907373\ttotal: 4.19s\tremaining: 12.3s\n",
            "255:\tlearn: 17553.0876211\ttotal: 4.2s\tremaining: 12.2s\n",
            "256:\tlearn: 17524.2756703\ttotal: 4.21s\tremaining: 12.2s\n",
            "257:\tlearn: 17512.1600052\ttotal: 4.21s\tremaining: 12.1s\n",
            "258:\tlearn: 17478.8758798\ttotal: 4.22s\tremaining: 12.1s\n",
            "259:\tlearn: 17469.9944310\ttotal: 4.23s\tremaining: 12s\n",
            "260:\tlearn: 17431.6090494\ttotal: 4.24s\tremaining: 12s\n",
            "261:\tlearn: 17411.9460136\ttotal: 4.25s\tremaining: 12s\n",
            "262:\tlearn: 17382.4665200\ttotal: 4.26s\tremaining: 11.9s\n",
            "263:\tlearn: 17367.4664560\ttotal: 4.27s\tremaining: 11.9s\n",
            "264:\tlearn: 17345.1837025\ttotal: 4.28s\tremaining: 11.9s\n",
            "265:\tlearn: 17335.8023963\ttotal: 4.29s\tremaining: 11.8s\n",
            "266:\tlearn: 17320.0296514\ttotal: 4.29s\tremaining: 11.8s\n",
            "267:\tlearn: 17299.3348231\ttotal: 4.31s\tremaining: 11.8s\n",
            "268:\tlearn: 17286.4387838\ttotal: 4.32s\tremaining: 11.7s\n",
            "269:\tlearn: 17273.3803963\ttotal: 4.33s\tremaining: 11.7s\n",
            "270:\tlearn: 17254.1760134\ttotal: 4.34s\tremaining: 11.7s\n",
            "271:\tlearn: 17237.1736760\ttotal: 4.34s\tremaining: 11.6s\n",
            "272:\tlearn: 17225.3415588\ttotal: 4.35s\tremaining: 11.6s\n",
            "273:\tlearn: 17194.4569783\ttotal: 4.36s\tremaining: 11.6s\n",
            "274:\tlearn: 17171.9190325\ttotal: 4.37s\tremaining: 11.5s\n",
            "275:\tlearn: 17162.9685174\ttotal: 4.37s\tremaining: 11.5s\n",
            "276:\tlearn: 17150.8729122\ttotal: 4.38s\tremaining: 11.4s\n",
            "277:\tlearn: 17140.2281058\ttotal: 4.4s\tremaining: 11.4s\n",
            "278:\tlearn: 17126.1921813\ttotal: 4.41s\tremaining: 11.4s\n",
            "279:\tlearn: 17090.3622204\ttotal: 4.42s\tremaining: 11.4s\n",
            "280:\tlearn: 17056.2669150\ttotal: 4.43s\tremaining: 11.3s\n",
            "281:\tlearn: 17030.9126223\ttotal: 4.44s\tremaining: 11.3s\n",
            "282:\tlearn: 17015.6440811\ttotal: 4.45s\tremaining: 11.3s\n",
            "283:\tlearn: 16997.1609354\ttotal: 4.46s\tremaining: 11.2s\n",
            "284:\tlearn: 16985.3364049\ttotal: 4.47s\tremaining: 11.2s\n",
            "285:\tlearn: 16975.3917848\ttotal: 4.48s\tremaining: 11.2s\n",
            "286:\tlearn: 16953.6679326\ttotal: 4.5s\tremaining: 11.2s\n",
            "287:\tlearn: 16931.8109820\ttotal: 4.5s\tremaining: 11.1s\n",
            "288:\tlearn: 16914.8415227\ttotal: 4.51s\tremaining: 11.1s\n",
            "289:\tlearn: 16888.9747865\ttotal: 4.52s\tremaining: 11.1s\n",
            "290:\tlearn: 16880.8236511\ttotal: 4.53s\tremaining: 11s\n",
            "291:\tlearn: 16864.0446924\ttotal: 4.53s\tremaining: 11s\n",
            "292:\tlearn: 16825.1383268\ttotal: 4.54s\tremaining: 11s\n",
            "293:\tlearn: 16818.4059355\ttotal: 4.55s\tremaining: 10.9s\n",
            "294:\tlearn: 16801.7717023\ttotal: 4.56s\tremaining: 10.9s\n",
            "295:\tlearn: 16786.1130887\ttotal: 4.57s\tremaining: 10.9s\n",
            "296:\tlearn: 16780.1192655\ttotal: 4.58s\tremaining: 10.9s\n",
            "297:\tlearn: 16768.5751088\ttotal: 4.59s\tremaining: 10.8s\n",
            "298:\tlearn: 16742.9131804\ttotal: 4.6s\tremaining: 10.8s\n",
            "299:\tlearn: 16732.6554992\ttotal: 4.61s\tremaining: 10.8s\n",
            "300:\tlearn: 16722.3286217\ttotal: 4.62s\tremaining: 10.7s\n",
            "301:\tlearn: 16705.8885361\ttotal: 4.63s\tremaining: 10.7s\n",
            "302:\tlearn: 16686.6330217\ttotal: 4.64s\tremaining: 10.7s\n",
            "303:\tlearn: 16664.8376889\ttotal: 4.64s\tremaining: 10.6s\n",
            "304:\tlearn: 16628.6252657\ttotal: 4.66s\tremaining: 10.6s\n",
            "305:\tlearn: 16613.7322594\ttotal: 4.68s\tremaining: 10.6s\n",
            "306:\tlearn: 16606.2794425\ttotal: 4.7s\tremaining: 10.6s\n",
            "307:\tlearn: 16582.6312654\ttotal: 4.72s\tremaining: 10.6s\n",
            "308:\tlearn: 16544.2403040\ttotal: 4.74s\tremaining: 10.6s\n",
            "309:\tlearn: 16516.8049291\ttotal: 4.75s\tremaining: 10.6s\n",
            "310:\tlearn: 16505.2324085\ttotal: 4.76s\tremaining: 10.5s\n",
            "311:\tlearn: 16478.2045015\ttotal: 4.77s\tremaining: 10.5s\n",
            "312:\tlearn: 16461.0596735\ttotal: 4.78s\tremaining: 10.5s\n",
            "313:\tlearn: 16451.7617048\ttotal: 4.79s\tremaining: 10.5s\n",
            "314:\tlearn: 16436.2281617\ttotal: 4.8s\tremaining: 10.4s\n",
            "315:\tlearn: 16422.1110183\ttotal: 4.81s\tremaining: 10.4s\n",
            "316:\tlearn: 16405.5901784\ttotal: 4.82s\tremaining: 10.4s\n",
            "317:\tlearn: 16396.3544306\ttotal: 4.82s\tremaining: 10.3s\n",
            "318:\tlearn: 16370.3147020\ttotal: 4.83s\tremaining: 10.3s\n",
            "319:\tlearn: 16349.6888429\ttotal: 4.84s\tremaining: 10.3s\n",
            "320:\tlearn: 16327.0217623\ttotal: 4.84s\tremaining: 10.2s\n",
            "321:\tlearn: 16304.8185822\ttotal: 4.85s\tremaining: 10.2s\n",
            "322:\tlearn: 16300.8584106\ttotal: 4.86s\tremaining: 10.2s\n",
            "323:\tlearn: 16276.8716871\ttotal: 4.87s\tremaining: 10.2s\n",
            "324:\tlearn: 16261.5071137\ttotal: 4.88s\tremaining: 10.1s\n",
            "325:\tlearn: 16248.4221450\ttotal: 4.89s\tremaining: 10.1s\n",
            "326:\tlearn: 16240.0015591\ttotal: 4.9s\tremaining: 10.1s\n",
            "327:\tlearn: 16231.1246924\ttotal: 4.9s\tremaining: 10s\n",
            "328:\tlearn: 16203.5243190\ttotal: 4.91s\tremaining: 10s\n",
            "329:\tlearn: 16192.8504496\ttotal: 4.92s\tremaining: 9.98s\n",
            "330:\tlearn: 16173.0484372\ttotal: 4.92s\tremaining: 9.95s\n",
            "331:\tlearn: 16142.6418589\ttotal: 4.93s\tremaining: 9.92s\n",
            "332:\tlearn: 16130.5023726\ttotal: 4.93s\tremaining: 9.88s\n",
            "333:\tlearn: 16104.0428181\ttotal: 4.95s\tremaining: 9.86s\n",
            "334:\tlearn: 16087.4351264\ttotal: 4.96s\tremaining: 9.84s\n",
            "335:\tlearn: 16057.5516848\ttotal: 4.97s\tremaining: 9.82s\n",
            "336:\tlearn: 16036.2751497\ttotal: 4.98s\tremaining: 9.8s\n",
            "337:\tlearn: 16014.0964739\ttotal: 4.99s\tremaining: 9.77s\n",
            "338:\tlearn: 16007.9939417\ttotal: 4.99s\tremaining: 9.74s\n",
            "339:\tlearn: 15985.7563784\ttotal: 5.01s\tremaining: 9.72s\n",
            "340:\tlearn: 15963.9181802\ttotal: 5.03s\tremaining: 9.73s\n",
            "341:\tlearn: 15953.4941537\ttotal: 5.04s\tremaining: 9.7s\n",
            "342:\tlearn: 15936.3890937\ttotal: 5.05s\tremaining: 9.67s\n",
            "343:\tlearn: 15929.5746429\ttotal: 5.06s\tremaining: 9.64s\n",
            "344:\tlearn: 15912.7851106\ttotal: 5.07s\tremaining: 9.62s\n",
            "345:\tlearn: 15900.2454829\ttotal: 5.08s\tremaining: 9.6s\n",
            "346:\tlearn: 15882.4864142\ttotal: 5.08s\tremaining: 9.56s\n",
            "347:\tlearn: 15871.2513448\ttotal: 5.09s\tremaining: 9.54s\n",
            "348:\tlearn: 15854.2146114\ttotal: 5.1s\tremaining: 9.51s\n",
            "349:\tlearn: 15838.8658064\ttotal: 5.1s\tremaining: 9.48s\n",
            "350:\tlearn: 15834.6328819\ttotal: 5.11s\tremaining: 9.45s\n",
            "351:\tlearn: 15814.0483764\ttotal: 5.12s\tremaining: 9.42s\n",
            "352:\tlearn: 15791.3340799\ttotal: 5.12s\tremaining: 9.39s\n",
            "353:\tlearn: 15776.5945608\ttotal: 5.13s\tremaining: 9.36s\n",
            "354:\tlearn: 15768.1752481\ttotal: 5.14s\tremaining: 9.33s\n",
            "355:\tlearn: 15752.5556464\ttotal: 5.14s\tremaining: 9.3s\n",
            "356:\tlearn: 15729.7946926\ttotal: 5.15s\tremaining: 9.28s\n",
            "357:\tlearn: 15714.3468491\ttotal: 5.16s\tremaining: 9.25s\n",
            "358:\tlearn: 15697.2904884\ttotal: 5.16s\tremaining: 9.22s\n",
            "359:\tlearn: 15684.9863271\ttotal: 5.17s\tremaining: 9.19s\n",
            "360:\tlearn: 15679.3407825\ttotal: 5.17s\tremaining: 9.16s\n",
            "361:\tlearn: 15646.8692609\ttotal: 5.19s\tremaining: 9.14s\n",
            "362:\tlearn: 15635.0252215\ttotal: 5.2s\tremaining: 9.13s\n",
            "363:\tlearn: 15615.3299246\ttotal: 5.21s\tremaining: 9.1s\n",
            "364:\tlearn: 15598.1790878\ttotal: 5.21s\tremaining: 9.07s\n",
            "365:\tlearn: 15588.9393623\ttotal: 5.22s\tremaining: 9.05s\n",
            "366:\tlearn: 15577.5988120\ttotal: 5.24s\tremaining: 9.03s\n",
            "367:\tlearn: 15561.0547637\ttotal: 5.25s\tremaining: 9.01s\n",
            "368:\tlearn: 15545.8433241\ttotal: 5.26s\tremaining: 8.99s\n",
            "369:\tlearn: 15530.5329867\ttotal: 5.27s\tremaining: 8.97s\n",
            "370:\tlearn: 15517.8435217\ttotal: 5.28s\tremaining: 8.95s\n",
            "371:\tlearn: 15499.7466641\ttotal: 5.3s\tremaining: 8.95s\n",
            "372:\tlearn: 15482.9711636\ttotal: 5.31s\tremaining: 8.93s\n",
            "373:\tlearn: 15468.5163285\ttotal: 5.33s\tremaining: 8.92s\n",
            "374:\tlearn: 15457.4610211\ttotal: 5.34s\tremaining: 8.91s\n",
            "375:\tlearn: 15452.2643551\ttotal: 5.35s\tremaining: 8.88s\n",
            "376:\tlearn: 15436.1463256\ttotal: 5.37s\tremaining: 8.87s\n",
            "377:\tlearn: 15431.2383060\ttotal: 5.37s\tremaining: 8.84s\n",
            "378:\tlearn: 15420.7587483\ttotal: 5.41s\tremaining: 8.86s\n",
            "379:\tlearn: 15408.2645565\ttotal: 5.41s\tremaining: 8.83s\n",
            "380:\tlearn: 15392.0924944\ttotal: 5.42s\tremaining: 8.8s\n",
            "381:\tlearn: 15381.5651549\ttotal: 5.43s\tremaining: 8.79s\n",
            "382:\tlearn: 15370.9517697\ttotal: 5.44s\tremaining: 8.77s\n",
            "383:\tlearn: 15351.3077589\ttotal: 5.44s\tremaining: 8.73s\n",
            "384:\tlearn: 15331.3018637\ttotal: 5.45s\tremaining: 8.71s\n",
            "385:\tlearn: 15310.8960120\ttotal: 5.46s\tremaining: 8.68s\n",
            "386:\tlearn: 15304.0753868\ttotal: 5.46s\tremaining: 8.66s\n",
            "387:\tlearn: 15292.8965696\ttotal: 5.48s\tremaining: 8.64s\n",
            "388:\tlearn: 15270.5059046\ttotal: 5.49s\tremaining: 8.62s\n",
            "389:\tlearn: 15255.0279099\ttotal: 5.5s\tremaining: 8.6s\n",
            "390:\tlearn: 15248.4044930\ttotal: 5.51s\tremaining: 8.59s\n",
            "391:\tlearn: 15234.6568333\ttotal: 5.53s\tremaining: 8.58s\n",
            "392:\tlearn: 15209.4469836\ttotal: 5.55s\tremaining: 8.58s\n",
            "393:\tlearn: 15187.1719601\ttotal: 5.56s\tremaining: 8.55s\n",
            "394:\tlearn: 15171.1081579\ttotal: 5.57s\tremaining: 8.53s\n",
            "395:\tlearn: 15145.1875178\ttotal: 5.58s\tremaining: 8.51s\n",
            "396:\tlearn: 15120.8432550\ttotal: 5.6s\tremaining: 8.5s\n",
            "397:\tlearn: 15108.1479580\ttotal: 5.61s\tremaining: 8.49s\n",
            "398:\tlearn: 15098.7444930\ttotal: 5.63s\tremaining: 8.47s\n",
            "399:\tlearn: 15091.3008884\ttotal: 5.63s\tremaining: 8.45s\n",
            "400:\tlearn: 15076.0010514\ttotal: 5.65s\tremaining: 8.44s\n",
            "401:\tlearn: 15062.6240676\ttotal: 5.67s\tremaining: 8.44s\n",
            "402:\tlearn: 15059.2091940\ttotal: 5.68s\tremaining: 8.42s\n",
            "403:\tlearn: 15049.8287656\ttotal: 5.69s\tremaining: 8.4s\n",
            "404:\tlearn: 15037.1951147\ttotal: 5.7s\tremaining: 8.38s\n",
            "405:\tlearn: 15030.0763798\ttotal: 5.71s\tremaining: 8.36s\n",
            "406:\tlearn: 15012.4435616\ttotal: 5.72s\tremaining: 8.34s\n",
            "407:\tlearn: 15002.1760009\ttotal: 5.73s\tremaining: 8.31s\n",
            "408:\tlearn: 14989.9673127\ttotal: 5.74s\tremaining: 8.29s\n",
            "409:\tlearn: 14987.3140958\ttotal: 5.75s\tremaining: 8.27s\n",
            "410:\tlearn: 14983.1577426\ttotal: 5.75s\tremaining: 8.25s\n",
            "411:\tlearn: 14971.5173223\ttotal: 5.76s\tremaining: 8.23s\n",
            "412:\tlearn: 14960.7065458\ttotal: 5.78s\tremaining: 8.21s\n",
            "413:\tlearn: 14940.5059250\ttotal: 5.79s\tremaining: 8.2s\n",
            "414:\tlearn: 14923.8216524\ttotal: 5.8s\tremaining: 8.18s\n",
            "415:\tlearn: 14909.6183487\ttotal: 5.82s\tremaining: 8.17s\n",
            "416:\tlearn: 14890.4751489\ttotal: 5.84s\tremaining: 8.17s\n",
            "417:\tlearn: 14879.4724511\ttotal: 5.85s\tremaining: 8.14s\n",
            "418:\tlearn: 14872.6747672\ttotal: 5.86s\tremaining: 8.12s\n",
            "419:\tlearn: 14854.1595585\ttotal: 5.86s\tremaining: 8.1s\n",
            "420:\tlearn: 14840.1016467\ttotal: 5.89s\tremaining: 8.1s\n",
            "421:\tlearn: 14827.6086856\ttotal: 5.89s\tremaining: 8.07s\n",
            "422:\tlearn: 14815.3195338\ttotal: 5.9s\tremaining: 8.05s\n",
            "423:\tlearn: 14808.5675458\ttotal: 5.91s\tremaining: 8.03s\n",
            "424:\tlearn: 14796.3582709\ttotal: 5.93s\tremaining: 8.02s\n",
            "425:\tlearn: 14769.9185282\ttotal: 5.94s\tremaining: 8s\n",
            "426:\tlearn: 14756.7883744\ttotal: 5.98s\tremaining: 8.02s\n",
            "427:\tlearn: 14747.0513109\ttotal: 6.01s\tremaining: 8.03s\n",
            "428:\tlearn: 14736.3489265\ttotal: 6.02s\tremaining: 8.01s\n",
            "429:\tlearn: 14729.8033581\ttotal: 6.03s\tremaining: 8s\n",
            "430:\tlearn: 14713.7935464\ttotal: 6.04s\tremaining: 7.98s\n",
            "431:\tlearn: 14695.4144011\ttotal: 6.05s\tremaining: 7.95s\n",
            "432:\tlearn: 14686.6674919\ttotal: 6.05s\tremaining: 7.93s\n",
            "433:\tlearn: 14679.4607374\ttotal: 6.05s\tremaining: 7.9s\n",
            "434:\tlearn: 14658.7860794\ttotal: 6.06s\tremaining: 7.87s\n",
            "435:\tlearn: 14642.2174666\ttotal: 6.06s\tremaining: 7.84s\n",
            "436:\tlearn: 14632.3270649\ttotal: 6.06s\tremaining: 7.81s\n",
            "437:\tlearn: 14622.8977487\ttotal: 6.07s\tremaining: 7.79s\n",
            "438:\tlearn: 14605.8082367\ttotal: 6.07s\tremaining: 7.76s\n",
            "439:\tlearn: 14600.8375650\ttotal: 6.08s\tremaining: 7.74s\n",
            "440:\tlearn: 14592.2767808\ttotal: 6.08s\tremaining: 7.71s\n",
            "441:\tlearn: 14582.1377349\ttotal: 6.09s\tremaining: 7.68s\n",
            "442:\tlearn: 14565.6534172\ttotal: 6.09s\tremaining: 7.66s\n",
            "443:\tlearn: 14549.9590467\ttotal: 6.09s\tremaining: 7.63s\n",
            "444:\tlearn: 14529.8819626\ttotal: 6.11s\tremaining: 7.61s\n",
            "445:\tlearn: 14522.8594806\ttotal: 6.11s\tremaining: 7.59s\n",
            "446:\tlearn: 14510.5984427\ttotal: 6.12s\tremaining: 7.57s\n",
            "447:\tlearn: 14492.0149752\ttotal: 6.12s\tremaining: 7.54s\n",
            "448:\tlearn: 14480.5827031\ttotal: 6.13s\tremaining: 7.52s\n",
            "449:\tlearn: 14459.5307397\ttotal: 6.13s\tremaining: 7.49s\n",
            "450:\tlearn: 14442.1037837\ttotal: 6.14s\tremaining: 7.47s\n",
            "451:\tlearn: 14429.9802481\ttotal: 6.14s\tremaining: 7.45s\n",
            "452:\tlearn: 14415.1710544\ttotal: 6.16s\tremaining: 7.43s\n",
            "453:\tlearn: 14403.9726337\ttotal: 6.17s\tremaining: 7.42s\n",
            "454:\tlearn: 14393.2908182\ttotal: 6.17s\tremaining: 7.39s\n",
            "455:\tlearn: 14370.5725239\ttotal: 6.18s\tremaining: 7.37s\n",
            "456:\tlearn: 14363.1596493\ttotal: 6.19s\tremaining: 7.36s\n",
            "457:\tlearn: 14355.9171830\ttotal: 6.2s\tremaining: 7.33s\n",
            "458:\tlearn: 14344.2964287\ttotal: 6.2s\tremaining: 7.31s\n",
            "459:\tlearn: 14328.1943076\ttotal: 6.21s\tremaining: 7.29s\n",
            "460:\tlearn: 14315.8516938\ttotal: 6.22s\tremaining: 7.27s\n",
            "461:\tlearn: 14304.8543987\ttotal: 6.22s\tremaining: 7.25s\n",
            "462:\tlearn: 14294.2104567\ttotal: 6.22s\tremaining: 7.22s\n",
            "463:\tlearn: 14283.9055655\ttotal: 6.23s\tremaining: 7.19s\n",
            "464:\tlearn: 14273.9261665\ttotal: 6.23s\tremaining: 7.17s\n",
            "465:\tlearn: 14264.2593975\ttotal: 6.23s\tremaining: 7.14s\n",
            "466:\tlearn: 14254.3022340\ttotal: 6.24s\tremaining: 7.12s\n",
            "467:\tlearn: 14244.6663001\ttotal: 6.24s\tremaining: 7.1s\n",
            "468:\tlearn: 14234.5967446\ttotal: 6.25s\tremaining: 7.08s\n",
            "469:\tlearn: 14225.2883054\ttotal: 6.26s\tremaining: 7.05s\n",
            "470:\tlearn: 14217.1291369\ttotal: 6.26s\tremaining: 7.03s\n",
            "471:\tlearn: 14208.5338966\ttotal: 6.26s\tremaining: 7.01s\n",
            "472:\tlearn: 14200.1535645\ttotal: 6.27s\tremaining: 6.98s\n",
            "473:\tlearn: 14190.3579559\ttotal: 6.27s\tremaining: 6.96s\n",
            "474:\tlearn: 14179.3639416\ttotal: 6.28s\tremaining: 6.94s\n",
            "475:\tlearn: 14171.6419532\ttotal: 6.28s\tremaining: 6.91s\n",
            "476:\tlearn: 14162.4860757\ttotal: 6.28s\tremaining: 6.89s\n",
            "477:\tlearn: 14144.4982522\ttotal: 6.29s\tremaining: 6.87s\n",
            "478:\tlearn: 14134.5422833\ttotal: 6.29s\tremaining: 6.84s\n",
            "479:\tlearn: 14117.2560316\ttotal: 6.31s\tremaining: 6.84s\n",
            "480:\tlearn: 14109.8891392\ttotal: 6.31s\tremaining: 6.81s\n",
            "481:\tlearn: 14094.0664954\ttotal: 6.32s\tremaining: 6.79s\n",
            "482:\tlearn: 14080.5718502\ttotal: 6.32s\tremaining: 6.77s\n",
            "483:\tlearn: 14069.9069705\ttotal: 6.33s\tremaining: 6.74s\n",
            "484:\tlearn: 14055.5512509\ttotal: 6.34s\tremaining: 6.74s\n",
            "485:\tlearn: 14041.2318461\ttotal: 6.35s\tremaining: 6.71s\n",
            "486:\tlearn: 14025.5175253\ttotal: 6.37s\tremaining: 6.71s\n",
            "487:\tlearn: 14016.8947372\ttotal: 6.38s\tremaining: 6.7s\n",
            "488:\tlearn: 14009.1448975\ttotal: 6.39s\tremaining: 6.68s\n",
            "489:\tlearn: 13989.7104878\ttotal: 6.39s\tremaining: 6.65s\n",
            "490:\tlearn: 13985.4361449\ttotal: 6.4s\tremaining: 6.63s\n",
            "491:\tlearn: 13972.9824569\ttotal: 6.4s\tremaining: 6.61s\n",
            "492:\tlearn: 13960.8942798\ttotal: 6.41s\tremaining: 6.59s\n",
            "493:\tlearn: 13952.5952598\ttotal: 6.42s\tremaining: 6.57s\n",
            "494:\tlearn: 13944.5084985\ttotal: 6.42s\tremaining: 6.55s\n",
            "495:\tlearn: 13921.8727509\ttotal: 6.43s\tremaining: 6.54s\n",
            "496:\tlearn: 13911.8336749\ttotal: 6.44s\tremaining: 6.52s\n",
            "497:\tlearn: 13907.9257329\ttotal: 6.45s\tremaining: 6.5s\n",
            "498:\tlearn: 13901.4774994\ttotal: 6.45s\tremaining: 6.48s\n",
            "499:\tlearn: 13887.2160266\ttotal: 6.46s\tremaining: 6.46s\n",
            "500:\tlearn: 13880.3743736\ttotal: 6.47s\tremaining: 6.44s\n",
            "501:\tlearn: 13873.7787226\ttotal: 6.49s\tremaining: 6.43s\n",
            "502:\tlearn: 13866.1028942\ttotal: 6.49s\tremaining: 6.41s\n",
            "503:\tlearn: 13856.9097567\ttotal: 6.5s\tremaining: 6.39s\n",
            "504:\tlearn: 13844.5177724\ttotal: 6.51s\tremaining: 6.39s\n",
            "505:\tlearn: 13831.3586068\ttotal: 6.54s\tremaining: 6.39s\n",
            "506:\tlearn: 13821.5841043\ttotal: 6.55s\tremaining: 6.37s\n",
            "507:\tlearn: 13801.9961733\ttotal: 6.56s\tremaining: 6.35s\n",
            "508:\tlearn: 13794.5810889\ttotal: 6.56s\tremaining: 6.33s\n",
            "509:\tlearn: 13787.4440697\ttotal: 6.57s\tremaining: 6.31s\n",
            "510:\tlearn: 13774.7180460\ttotal: 6.57s\tremaining: 6.29s\n",
            "511:\tlearn: 13770.8143473\ttotal: 6.58s\tremaining: 6.27s\n",
            "512:\tlearn: 13764.6085743\ttotal: 6.59s\tremaining: 6.25s\n",
            "513:\tlearn: 13740.5433029\ttotal: 6.59s\tremaining: 6.23s\n",
            "514:\tlearn: 13720.3818349\ttotal: 6.6s\tremaining: 6.21s\n",
            "515:\tlearn: 13715.3565983\ttotal: 6.61s\tremaining: 6.2s\n",
            "516:\tlearn: 13708.5144685\ttotal: 6.63s\tremaining: 6.19s\n",
            "517:\tlearn: 13697.3061352\ttotal: 6.65s\tremaining: 6.19s\n",
            "518:\tlearn: 13691.3444213\ttotal: 6.65s\tremaining: 6.17s\n",
            "519:\tlearn: 13686.4587637\ttotal: 6.66s\tremaining: 6.14s\n",
            "520:\tlearn: 13661.6117738\ttotal: 6.66s\tremaining: 6.12s\n",
            "521:\tlearn: 13647.9217338\ttotal: 6.66s\tremaining: 6.1s\n",
            "522:\tlearn: 13638.0608002\ttotal: 6.67s\tremaining: 6.08s\n",
            "523:\tlearn: 13625.6035326\ttotal: 6.68s\tremaining: 6.07s\n",
            "524:\tlearn: 13606.5644876\ttotal: 6.7s\tremaining: 6.06s\n",
            "525:\tlearn: 13584.8233921\ttotal: 6.71s\tremaining: 6.05s\n",
            "526:\tlearn: 13564.9786008\ttotal: 6.72s\tremaining: 6.04s\n",
            "527:\tlearn: 13549.3114855\ttotal: 6.75s\tremaining: 6.03s\n",
            "528:\tlearn: 13538.7454941\ttotal: 6.75s\tremaining: 6.01s\n",
            "529:\tlearn: 13522.2525733\ttotal: 6.79s\tremaining: 6.02s\n",
            "530:\tlearn: 13515.2430506\ttotal: 6.8s\tremaining: 6s\n",
            "531:\tlearn: 13504.1777979\ttotal: 6.82s\tremaining: 6s\n",
            "532:\tlearn: 13492.7039232\ttotal: 6.82s\tremaining: 5.97s\n",
            "533:\tlearn: 13488.2047435\ttotal: 6.82s\tremaining: 5.95s\n",
            "534:\tlearn: 13473.4519339\ttotal: 6.83s\tremaining: 5.93s\n",
            "535:\tlearn: 13460.4925200\ttotal: 6.83s\tremaining: 5.91s\n",
            "536:\tlearn: 13448.8026230\ttotal: 6.83s\tremaining: 5.89s\n",
            "537:\tlearn: 13440.7301298\ttotal: 6.84s\tremaining: 5.87s\n",
            "538:\tlearn: 13428.6837475\ttotal: 6.84s\tremaining: 5.85s\n",
            "539:\tlearn: 13417.7354018\ttotal: 6.85s\tremaining: 5.83s\n",
            "540:\tlearn: 13407.5843316\ttotal: 6.85s\tremaining: 5.81s\n",
            "541:\tlearn: 13397.6848597\ttotal: 6.86s\tremaining: 5.8s\n",
            "542:\tlearn: 13391.9889992\ttotal: 6.88s\tremaining: 5.79s\n",
            "543:\tlearn: 13384.0492879\ttotal: 6.89s\tremaining: 5.77s\n",
            "544:\tlearn: 13374.4526576\ttotal: 6.89s\tremaining: 5.76s\n",
            "545:\tlearn: 13363.2165647\ttotal: 6.9s\tremaining: 5.74s\n",
            "546:\tlearn: 13352.8824614\ttotal: 6.93s\tremaining: 5.74s\n",
            "547:\tlearn: 13340.3594903\ttotal: 6.96s\tremaining: 5.74s\n",
            "548:\tlearn: 13332.2982971\ttotal: 6.98s\tremaining: 5.73s\n",
            "549:\tlearn: 13324.3759780\ttotal: 7.01s\tremaining: 5.73s\n",
            "550:\tlearn: 13316.1435858\ttotal: 7.01s\tremaining: 5.71s\n",
            "551:\tlearn: 13301.0003962\ttotal: 7.02s\tremaining: 5.7s\n",
            "552:\tlearn: 13281.9123347\ttotal: 7.03s\tremaining: 5.68s\n",
            "553:\tlearn: 13273.0250232\ttotal: 7.05s\tremaining: 5.67s\n",
            "554:\tlearn: 13267.4429658\ttotal: 7.06s\tremaining: 5.66s\n",
            "555:\tlearn: 13258.6305129\ttotal: 7.07s\tremaining: 5.64s\n",
            "556:\tlearn: 13237.8674290\ttotal: 7.07s\tremaining: 5.63s\n",
            "557:\tlearn: 13221.0246911\ttotal: 7.08s\tremaining: 5.61s\n",
            "558:\tlearn: 13212.5189306\ttotal: 7.1s\tremaining: 5.6s\n",
            "559:\tlearn: 13207.4556087\ttotal: 7.1s\tremaining: 5.58s\n",
            "560:\tlearn: 13183.0901188\ttotal: 7.12s\tremaining: 5.57s\n",
            "561:\tlearn: 13177.5333941\ttotal: 7.13s\tremaining: 5.56s\n",
            "562:\tlearn: 13166.0932264\ttotal: 7.14s\tremaining: 5.54s\n",
            "563:\tlearn: 13151.4613479\ttotal: 7.15s\tremaining: 5.53s\n",
            "564:\tlearn: 13138.2485725\ttotal: 7.17s\tremaining: 5.52s\n",
            "565:\tlearn: 13131.8867095\ttotal: 7.17s\tremaining: 5.5s\n",
            "566:\tlearn: 13116.8692397\ttotal: 7.18s\tremaining: 5.48s\n",
            "567:\tlearn: 13107.4284968\ttotal: 7.18s\tremaining: 5.46s\n",
            "568:\tlearn: 13094.5922265\ttotal: 7.19s\tremaining: 5.45s\n",
            "569:\tlearn: 13089.0030462\ttotal: 7.2s\tremaining: 5.43s\n",
            "570:\tlearn: 13079.4796237\ttotal: 7.2s\tremaining: 5.41s\n",
            "571:\tlearn: 13067.6432653\ttotal: 7.21s\tremaining: 5.39s\n",
            "572:\tlearn: 13055.3028382\ttotal: 7.21s\tremaining: 5.38s\n",
            "573:\tlearn: 13051.0295346\ttotal: 7.23s\tremaining: 5.36s\n",
            "574:\tlearn: 13041.2692096\ttotal: 7.23s\tremaining: 5.34s\n",
            "575:\tlearn: 13035.6433344\ttotal: 7.24s\tremaining: 5.33s\n",
            "576:\tlearn: 13019.9391496\ttotal: 7.24s\tremaining: 5.31s\n",
            "577:\tlearn: 13009.7173041\ttotal: 7.26s\tremaining: 5.3s\n",
            "578:\tlearn: 13002.2257577\ttotal: 7.27s\tremaining: 5.29s\n",
            "579:\tlearn: 12994.5092929\ttotal: 7.28s\tremaining: 5.27s\n",
            "580:\tlearn: 12988.5846369\ttotal: 7.29s\tremaining: 5.26s\n",
            "581:\tlearn: 12976.9239297\ttotal: 7.3s\tremaining: 5.24s\n",
            "582:\tlearn: 12969.7266461\ttotal: 7.33s\tremaining: 5.24s\n",
            "583:\tlearn: 12950.7295903\ttotal: 7.33s\tremaining: 5.22s\n",
            "584:\tlearn: 12947.3044791\ttotal: 7.34s\tremaining: 5.2s\n",
            "585:\tlearn: 12943.0073921\ttotal: 7.34s\tremaining: 5.19s\n",
            "586:\tlearn: 12936.5311179\ttotal: 7.35s\tremaining: 5.17s\n",
            "587:\tlearn: 12925.8626767\ttotal: 7.35s\tremaining: 5.15s\n",
            "588:\tlearn: 12917.8100672\ttotal: 7.36s\tremaining: 5.14s\n",
            "589:\tlearn: 12903.1375060\ttotal: 7.37s\tremaining: 5.12s\n",
            "590:\tlearn: 12891.1485177\ttotal: 7.38s\tremaining: 5.11s\n",
            "591:\tlearn: 12873.7401975\ttotal: 7.38s\tremaining: 5.09s\n",
            "592:\tlearn: 12858.8673864\ttotal: 7.39s\tremaining: 5.08s\n",
            "593:\tlearn: 12853.1587076\ttotal: 7.41s\tremaining: 5.06s\n",
            "594:\tlearn: 12839.6578668\ttotal: 7.42s\tremaining: 5.05s\n",
            "595:\tlearn: 12834.4452026\ttotal: 7.43s\tremaining: 5.04s\n",
            "596:\tlearn: 12826.7565791\ttotal: 7.43s\tremaining: 5.02s\n",
            "597:\tlearn: 12816.6318102\ttotal: 7.43s\tremaining: 5s\n",
            "598:\tlearn: 12807.5461802\ttotal: 7.44s\tremaining: 4.98s\n",
            "599:\tlearn: 12795.0875047\ttotal: 7.44s\tremaining: 4.96s\n",
            "600:\tlearn: 12784.6252738\ttotal: 7.44s\tremaining: 4.94s\n",
            "601:\tlearn: 12779.7250562\ttotal: 7.45s\tremaining: 4.92s\n",
            "602:\tlearn: 12768.7650340\ttotal: 7.45s\tremaining: 4.91s\n",
            "603:\tlearn: 12764.1193113\ttotal: 7.46s\tremaining: 4.89s\n",
            "604:\tlearn: 12749.2123542\ttotal: 7.48s\tremaining: 4.88s\n",
            "605:\tlearn: 12745.6964443\ttotal: 7.49s\tremaining: 4.87s\n",
            "606:\tlearn: 12735.6795068\ttotal: 7.49s\tremaining: 4.85s\n",
            "607:\tlearn: 12730.5016065\ttotal: 7.49s\tremaining: 4.83s\n",
            "608:\tlearn: 12727.4779101\ttotal: 7.5s\tremaining: 4.81s\n",
            "609:\tlearn: 12715.6615631\ttotal: 7.5s\tremaining: 4.79s\n",
            "610:\tlearn: 12713.0771766\ttotal: 7.5s\tremaining: 4.78s\n",
            "611:\tlearn: 12699.2940967\ttotal: 7.5s\tremaining: 4.76s\n",
            "612:\tlearn: 12690.1788029\ttotal: 7.52s\tremaining: 4.75s\n",
            "613:\tlearn: 12678.3341078\ttotal: 7.55s\tremaining: 4.75s\n",
            "614:\tlearn: 12668.1690967\ttotal: 7.56s\tremaining: 4.73s\n",
            "615:\tlearn: 12658.8723437\ttotal: 7.56s\tremaining: 4.71s\n",
            "616:\tlearn: 12646.8304887\ttotal: 7.56s\tremaining: 4.69s\n",
            "617:\tlearn: 12633.0995219\ttotal: 7.58s\tremaining: 4.68s\n",
            "618:\tlearn: 12621.5347924\ttotal: 7.58s\tremaining: 4.66s\n",
            "619:\tlearn: 12613.7080291\ttotal: 7.58s\tremaining: 4.65s\n",
            "620:\tlearn: 12609.6044311\ttotal: 7.58s\tremaining: 4.63s\n",
            "621:\tlearn: 12593.3327689\ttotal: 7.59s\tremaining: 4.61s\n",
            "622:\tlearn: 12584.5523987\ttotal: 7.59s\tremaining: 4.59s\n",
            "623:\tlearn: 12578.2787351\ttotal: 7.6s\tremaining: 4.58s\n",
            "624:\tlearn: 12570.1762338\ttotal: 7.6s\tremaining: 4.56s\n",
            "625:\tlearn: 12559.7887718\ttotal: 7.62s\tremaining: 4.55s\n",
            "626:\tlearn: 12544.2861797\ttotal: 7.62s\tremaining: 4.54s\n",
            "627:\tlearn: 12538.2098323\ttotal: 7.63s\tremaining: 4.52s\n",
            "628:\tlearn: 12530.4408605\ttotal: 7.63s\tremaining: 4.5s\n",
            "629:\tlearn: 12514.6844576\ttotal: 7.64s\tremaining: 4.49s\n",
            "630:\tlearn: 12502.8386032\ttotal: 7.65s\tremaining: 4.47s\n",
            "631:\tlearn: 12490.5129306\ttotal: 7.66s\tremaining: 4.46s\n",
            "632:\tlearn: 12486.4566963\ttotal: 7.66s\tremaining: 4.44s\n",
            "633:\tlearn: 12480.8424022\ttotal: 7.67s\tremaining: 4.43s\n",
            "634:\tlearn: 12471.0105684\ttotal: 7.67s\tremaining: 4.41s\n",
            "635:\tlearn: 12464.0099233\ttotal: 7.68s\tremaining: 4.4s\n",
            "636:\tlearn: 12461.5438279\ttotal: 7.69s\tremaining: 4.38s\n",
            "637:\tlearn: 12453.3283974\ttotal: 7.7s\tremaining: 4.37s\n",
            "638:\tlearn: 12446.8588741\ttotal: 7.71s\tremaining: 4.35s\n",
            "639:\tlearn: 12434.8020448\ttotal: 7.71s\tremaining: 4.34s\n",
            "640:\tlearn: 12427.5416242\ttotal: 7.72s\tremaining: 4.32s\n",
            "641:\tlearn: 12422.4976843\ttotal: 7.72s\tremaining: 4.31s\n",
            "642:\tlearn: 12412.9076637\ttotal: 7.73s\tremaining: 4.29s\n",
            "643:\tlearn: 12402.2499209\ttotal: 7.74s\tremaining: 4.28s\n",
            "644:\tlearn: 12398.9369043\ttotal: 7.74s\tremaining: 4.26s\n",
            "645:\tlearn: 12386.3394135\ttotal: 7.76s\tremaining: 4.25s\n",
            "646:\tlearn: 12374.8564843\ttotal: 7.76s\tremaining: 4.24s\n",
            "647:\tlearn: 12364.9445770\ttotal: 7.78s\tremaining: 4.22s\n",
            "648:\tlearn: 12361.5318321\ttotal: 7.81s\tremaining: 4.22s\n",
            "649:\tlearn: 12354.5437161\ttotal: 7.81s\tremaining: 4.21s\n",
            "650:\tlearn: 12347.6553568\ttotal: 7.81s\tremaining: 4.19s\n",
            "651:\tlearn: 12337.7764207\ttotal: 7.82s\tremaining: 4.18s\n",
            "652:\tlearn: 12326.0946311\ttotal: 7.84s\tremaining: 4.17s\n",
            "653:\tlearn: 12319.0468046\ttotal: 7.87s\tremaining: 4.16s\n",
            "654:\tlearn: 12309.2063537\ttotal: 7.87s\tremaining: 4.15s\n",
            "655:\tlearn: 12301.2300121\ttotal: 7.88s\tremaining: 4.13s\n",
            "656:\tlearn: 12291.8303692\ttotal: 7.88s\tremaining: 4.11s\n",
            "657:\tlearn: 12281.0955853\ttotal: 7.89s\tremaining: 4.1s\n",
            "658:\tlearn: 12268.9996141\ttotal: 7.89s\tremaining: 4.08s\n",
            "659:\tlearn: 12258.5166509\ttotal: 7.89s\tremaining: 4.07s\n",
            "660:\tlearn: 12251.9713385\ttotal: 7.91s\tremaining: 4.05s\n",
            "661:\tlearn: 12239.6583462\ttotal: 7.93s\tremaining: 4.05s\n",
            "662:\tlearn: 12231.5845172\ttotal: 7.93s\tremaining: 4.03s\n",
            "663:\tlearn: 12222.2404576\ttotal: 7.94s\tremaining: 4.02s\n",
            "664:\tlearn: 12213.9986059\ttotal: 7.95s\tremaining: 4s\n",
            "665:\tlearn: 12204.6664882\ttotal: 7.96s\tremaining: 3.99s\n",
            "666:\tlearn: 12193.2811198\ttotal: 7.97s\tremaining: 3.98s\n",
            "667:\tlearn: 12188.1471877\ttotal: 7.99s\tremaining: 3.97s\n",
            "668:\tlearn: 12179.1195804\ttotal: 8.01s\tremaining: 3.96s\n",
            "669:\tlearn: 12171.3605393\ttotal: 8.01s\tremaining: 3.95s\n",
            "670:\tlearn: 12155.2924535\ttotal: 8.02s\tremaining: 3.93s\n",
            "671:\tlearn: 12149.3741774\ttotal: 8.02s\tremaining: 3.91s\n",
            "672:\tlearn: 12134.3142984\ttotal: 8.03s\tremaining: 3.9s\n",
            "673:\tlearn: 12124.1191092\ttotal: 8.04s\tremaining: 3.89s\n",
            "674:\tlearn: 12118.4495593\ttotal: 8.04s\tremaining: 3.87s\n",
            "675:\tlearn: 12110.2130495\ttotal: 8.04s\tremaining: 3.85s\n",
            "676:\tlearn: 12102.4077618\ttotal: 8.05s\tremaining: 3.84s\n",
            "677:\tlearn: 12095.6150074\ttotal: 8.06s\tremaining: 3.83s\n",
            "678:\tlearn: 12090.6345572\ttotal: 8.1s\tremaining: 3.83s\n",
            "679:\tlearn: 12074.2491987\ttotal: 8.11s\tremaining: 3.82s\n",
            "680:\tlearn: 12059.8686464\ttotal: 8.12s\tremaining: 3.8s\n",
            "681:\tlearn: 12055.0016505\ttotal: 8.12s\tremaining: 3.79s\n",
            "682:\tlearn: 12044.1996181\ttotal: 8.15s\tremaining: 3.78s\n",
            "683:\tlearn: 12038.0199234\ttotal: 8.16s\tremaining: 3.77s\n",
            "684:\tlearn: 12033.2397941\ttotal: 8.17s\tremaining: 3.76s\n",
            "685:\tlearn: 12026.8650676\ttotal: 8.17s\tremaining: 3.74s\n",
            "686:\tlearn: 12018.7956098\ttotal: 8.18s\tremaining: 3.73s\n",
            "687:\tlearn: 12013.7138039\ttotal: 8.19s\tremaining: 3.71s\n",
            "688:\tlearn: 12007.0349067\ttotal: 8.19s\tremaining: 3.7s\n",
            "689:\tlearn: 12002.4379638\ttotal: 8.2s\tremaining: 3.68s\n",
            "690:\tlearn: 11994.2141149\ttotal: 8.2s\tremaining: 3.67s\n",
            "691:\tlearn: 11984.9467609\ttotal: 8.21s\tremaining: 3.65s\n",
            "692:\tlearn: 11974.6856987\ttotal: 8.21s\tremaining: 3.64s\n",
            "693:\tlearn: 11970.0891650\ttotal: 8.22s\tremaining: 3.62s\n",
            "694:\tlearn: 11966.9032660\ttotal: 8.22s\tremaining: 3.61s\n",
            "695:\tlearn: 11957.9681554\ttotal: 8.23s\tremaining: 3.6s\n",
            "696:\tlearn: 11952.5898595\ttotal: 8.24s\tremaining: 3.58s\n",
            "697:\tlearn: 11945.8334559\ttotal: 8.24s\tremaining: 3.57s\n",
            "698:\tlearn: 11930.6082908\ttotal: 8.25s\tremaining: 3.55s\n",
            "699:\tlearn: 11921.8449371\ttotal: 8.25s\tremaining: 3.54s\n",
            "700:\tlearn: 11913.9095623\ttotal: 8.26s\tremaining: 3.52s\n",
            "701:\tlearn: 11904.7550257\ttotal: 8.27s\tremaining: 3.51s\n",
            "702:\tlearn: 11896.1735130\ttotal: 8.27s\tremaining: 3.5s\n",
            "703:\tlearn: 11889.1458935\ttotal: 8.28s\tremaining: 3.48s\n",
            "704:\tlearn: 11884.0199043\ttotal: 8.29s\tremaining: 3.47s\n",
            "705:\tlearn: 11876.2595909\ttotal: 8.3s\tremaining: 3.46s\n",
            "706:\tlearn: 11866.3071160\ttotal: 8.3s\tremaining: 3.44s\n",
            "707:\tlearn: 11861.9673642\ttotal: 8.31s\tremaining: 3.43s\n",
            "708:\tlearn: 11852.7107422\ttotal: 8.32s\tremaining: 3.41s\n",
            "709:\tlearn: 11852.3489608\ttotal: 8.33s\tremaining: 3.4s\n",
            "710:\tlearn: 11847.7684940\ttotal: 8.33s\tremaining: 3.39s\n",
            "711:\tlearn: 11842.1936868\ttotal: 8.33s\tremaining: 3.37s\n",
            "712:\tlearn: 11840.8174890\ttotal: 8.34s\tremaining: 3.35s\n",
            "713:\tlearn: 11839.2982356\ttotal: 8.34s\tremaining: 3.34s\n",
            "714:\tlearn: 11834.3912006\ttotal: 8.34s\tremaining: 3.32s\n",
            "715:\tlearn: 11822.6252943\ttotal: 8.34s\tremaining: 3.31s\n",
            "716:\tlearn: 11812.4969578\ttotal: 8.35s\tremaining: 3.29s\n",
            "717:\tlearn: 11801.6547766\ttotal: 8.35s\tremaining: 3.28s\n",
            "718:\tlearn: 11797.2398333\ttotal: 8.35s\tremaining: 3.26s\n",
            "719:\tlearn: 11789.3240497\ttotal: 8.36s\tremaining: 3.25s\n",
            "720:\tlearn: 11781.8657800\ttotal: 8.36s\tremaining: 3.23s\n",
            "721:\tlearn: 11781.5248333\ttotal: 8.36s\tremaining: 3.22s\n",
            "722:\tlearn: 11781.1926234\ttotal: 8.36s\tremaining: 3.2s\n",
            "723:\tlearn: 11774.4690048\ttotal: 8.36s\tremaining: 3.19s\n",
            "724:\tlearn: 11767.7306284\ttotal: 8.37s\tremaining: 3.17s\n",
            "725:\tlearn: 11763.0526053\ttotal: 8.37s\tremaining: 3.16s\n",
            "726:\tlearn: 11751.6832097\ttotal: 8.37s\tremaining: 3.14s\n",
            "727:\tlearn: 11742.6901145\ttotal: 8.37s\tremaining: 3.13s\n",
            "728:\tlearn: 11741.4312276\ttotal: 8.38s\tremaining: 3.11s\n",
            "729:\tlearn: 11735.7820186\ttotal: 8.38s\tremaining: 3.1s\n",
            "730:\tlearn: 11732.7689642\ttotal: 8.38s\tremaining: 3.08s\n",
            "731:\tlearn: 11722.9712015\ttotal: 8.38s\tremaining: 3.07s\n",
            "732:\tlearn: 11720.0547823\ttotal: 8.39s\tremaining: 3.06s\n",
            "733:\tlearn: 11719.0571488\ttotal: 8.39s\tremaining: 3.04s\n",
            "734:\tlearn: 11713.0547517\ttotal: 8.39s\tremaining: 3.02s\n",
            "735:\tlearn: 11711.8867863\ttotal: 8.39s\tremaining: 3.01s\n",
            "736:\tlearn: 11702.1744988\ttotal: 8.4s\tremaining: 3s\n",
            "737:\tlearn: 11700.4219084\ttotal: 8.4s\tremaining: 2.98s\n",
            "738:\tlearn: 11700.0295484\ttotal: 8.4s\tremaining: 2.97s\n",
            "739:\tlearn: 11699.1104497\ttotal: 8.4s\tremaining: 2.95s\n",
            "740:\tlearn: 11698.0702038\ttotal: 8.41s\tremaining: 2.94s\n",
            "741:\tlearn: 11696.8917582\ttotal: 8.41s\tremaining: 2.92s\n",
            "742:\tlearn: 11696.1822168\ttotal: 8.41s\tremaining: 2.91s\n",
            "743:\tlearn: 11687.3664216\ttotal: 8.41s\tremaining: 2.89s\n",
            "744:\tlearn: 11685.4372780\ttotal: 8.41s\tremaining: 2.88s\n",
            "745:\tlearn: 11684.5611482\ttotal: 8.42s\tremaining: 2.87s\n",
            "746:\tlearn: 11678.7029471\ttotal: 8.42s\tremaining: 2.85s\n",
            "747:\tlearn: 11678.0434271\ttotal: 8.42s\tremaining: 2.84s\n",
            "748:\tlearn: 11675.2229286\ttotal: 8.42s\tremaining: 2.82s\n",
            "749:\tlearn: 11667.4825117\ttotal: 8.43s\tremaining: 2.81s\n",
            "750:\tlearn: 11658.6830053\ttotal: 8.43s\tremaining: 2.8s\n",
            "751:\tlearn: 11651.0734878\ttotal: 8.44s\tremaining: 2.78s\n",
            "752:\tlearn: 11644.8817925\ttotal: 8.44s\tremaining: 2.77s\n",
            "753:\tlearn: 11640.7321991\ttotal: 8.44s\tremaining: 2.75s\n",
            "754:\tlearn: 11626.9169753\ttotal: 8.44s\tremaining: 2.74s\n",
            "755:\tlearn: 11618.4812872\ttotal: 8.44s\tremaining: 2.73s\n",
            "756:\tlearn: 11614.4503689\ttotal: 8.45s\tremaining: 2.71s\n",
            "757:\tlearn: 11607.7349552\ttotal: 8.45s\tremaining: 2.7s\n",
            "758:\tlearn: 11603.2493676\ttotal: 8.45s\tremaining: 2.68s\n",
            "759:\tlearn: 11588.4049830\ttotal: 8.46s\tremaining: 2.67s\n",
            "760:\tlearn: 11580.7910324\ttotal: 8.48s\tremaining: 2.66s\n",
            "761:\tlearn: 11571.4449600\ttotal: 8.48s\tremaining: 2.65s\n",
            "762:\tlearn: 11570.1738812\ttotal: 8.48s\tremaining: 2.63s\n",
            "763:\tlearn: 11562.7712074\ttotal: 8.48s\tremaining: 2.62s\n",
            "764:\tlearn: 11555.4931052\ttotal: 8.49s\tremaining: 2.61s\n",
            "765:\tlearn: 11546.6422253\ttotal: 8.49s\tremaining: 2.59s\n",
            "766:\tlearn: 11545.0300337\ttotal: 8.49s\tremaining: 2.58s\n",
            "767:\tlearn: 11541.0827772\ttotal: 8.5s\tremaining: 2.57s\n",
            "768:\tlearn: 11536.4651829\ttotal: 8.5s\tremaining: 2.55s\n",
            "769:\tlearn: 11530.3799706\ttotal: 8.5s\tremaining: 2.54s\n",
            "770:\tlearn: 11524.8382555\ttotal: 8.5s\tremaining: 2.52s\n",
            "771:\tlearn: 11517.8762369\ttotal: 8.51s\tremaining: 2.51s\n",
            "772:\tlearn: 11507.7228610\ttotal: 8.51s\tremaining: 2.5s\n",
            "773:\tlearn: 11500.1643423\ttotal: 8.51s\tremaining: 2.48s\n",
            "774:\tlearn: 11493.6569776\ttotal: 8.51s\tremaining: 2.47s\n",
            "775:\tlearn: 11488.3958205\ttotal: 8.52s\tremaining: 2.46s\n",
            "776:\tlearn: 11487.5482048\ttotal: 8.52s\tremaining: 2.44s\n",
            "777:\tlearn: 11478.9822002\ttotal: 8.52s\tremaining: 2.43s\n",
            "778:\tlearn: 11470.4494558\ttotal: 8.52s\tremaining: 2.42s\n",
            "779:\tlearn: 11456.6161112\ttotal: 8.53s\tremaining: 2.4s\n",
            "780:\tlearn: 11452.6487899\ttotal: 8.53s\tremaining: 2.39s\n",
            "781:\tlearn: 11442.9411767\ttotal: 8.53s\tremaining: 2.38s\n",
            "782:\tlearn: 11433.5071654\ttotal: 8.53s\tremaining: 2.36s\n",
            "783:\tlearn: 11417.5343502\ttotal: 8.54s\tremaining: 2.35s\n",
            "784:\tlearn: 11410.4388345\ttotal: 8.54s\tremaining: 2.34s\n",
            "785:\tlearn: 11398.7359905\ttotal: 8.54s\tremaining: 2.33s\n",
            "786:\tlearn: 11391.9295257\ttotal: 8.54s\tremaining: 2.31s\n",
            "787:\tlearn: 11382.2442873\ttotal: 8.54s\tremaining: 2.3s\n",
            "788:\tlearn: 11375.9350530\ttotal: 8.55s\tremaining: 2.29s\n",
            "789:\tlearn: 11365.8721478\ttotal: 8.55s\tremaining: 2.27s\n",
            "790:\tlearn: 11357.4680981\ttotal: 8.55s\tremaining: 2.26s\n",
            "791:\tlearn: 11352.4261078\ttotal: 8.55s\tremaining: 2.25s\n",
            "792:\tlearn: 11338.3837014\ttotal: 8.56s\tremaining: 2.23s\n",
            "793:\tlearn: 11332.8636750\ttotal: 8.56s\tremaining: 2.22s\n",
            "794:\tlearn: 11323.3738560\ttotal: 8.56s\tremaining: 2.21s\n",
            "795:\tlearn: 11317.0795947\ttotal: 8.56s\tremaining: 2.19s\n",
            "796:\tlearn: 11303.6644138\ttotal: 8.56s\tremaining: 2.18s\n",
            "797:\tlearn: 11288.4290741\ttotal: 8.58s\tremaining: 2.17s\n",
            "798:\tlearn: 11278.8575367\ttotal: 8.58s\tremaining: 2.16s\n",
            "799:\tlearn: 11275.2035556\ttotal: 8.59s\tremaining: 2.15s\n",
            "800:\tlearn: 11269.3195671\ttotal: 8.59s\tremaining: 2.13s\n",
            "801:\tlearn: 11262.5604568\ttotal: 8.6s\tremaining: 2.12s\n",
            "802:\tlearn: 11255.0493190\ttotal: 8.61s\tremaining: 2.11s\n",
            "803:\tlearn: 11248.7711407\ttotal: 8.62s\tremaining: 2.1s\n",
            "804:\tlearn: 11245.4001629\ttotal: 8.62s\tremaining: 2.09s\n",
            "805:\tlearn: 11232.5831454\ttotal: 8.62s\tremaining: 2.08s\n",
            "806:\tlearn: 11220.0453751\ttotal: 8.63s\tremaining: 2.06s\n",
            "807:\tlearn: 11211.7345596\ttotal: 8.63s\tremaining: 2.05s\n",
            "808:\tlearn: 11204.7369040\ttotal: 8.63s\tremaining: 2.04s\n",
            "809:\tlearn: 11199.5709067\ttotal: 8.63s\tremaining: 2.02s\n",
            "810:\tlearn: 11192.8251924\ttotal: 8.63s\tremaining: 2.01s\n",
            "811:\tlearn: 11181.4553717\ttotal: 8.64s\tremaining: 2s\n",
            "812:\tlearn: 11175.9807305\ttotal: 8.64s\tremaining: 1.99s\n",
            "813:\tlearn: 11169.4855661\ttotal: 8.64s\tremaining: 1.97s\n",
            "814:\tlearn: 11168.9060886\ttotal: 8.64s\tremaining: 1.96s\n",
            "815:\tlearn: 11159.2384171\ttotal: 8.65s\tremaining: 1.95s\n",
            "816:\tlearn: 11158.1526603\ttotal: 8.65s\tremaining: 1.94s\n",
            "817:\tlearn: 11146.7657334\ttotal: 8.65s\tremaining: 1.93s\n",
            "818:\tlearn: 11136.3107818\ttotal: 8.65s\tremaining: 1.91s\n",
            "819:\tlearn: 11129.1409897\ttotal: 8.66s\tremaining: 1.9s\n",
            "820:\tlearn: 11123.3768402\ttotal: 8.66s\tremaining: 1.89s\n",
            "821:\tlearn: 11114.7024054\ttotal: 8.66s\tremaining: 1.88s\n",
            "822:\tlearn: 11105.9540073\ttotal: 8.66s\tremaining: 1.86s\n",
            "823:\tlearn: 11095.0081664\ttotal: 8.67s\tremaining: 1.85s\n",
            "824:\tlearn: 11087.5614757\ttotal: 8.67s\tremaining: 1.84s\n",
            "825:\tlearn: 11078.7469711\ttotal: 8.67s\tremaining: 1.83s\n",
            "826:\tlearn: 11071.9663711\ttotal: 8.67s\tremaining: 1.81s\n",
            "827:\tlearn: 11065.7434412\ttotal: 8.68s\tremaining: 1.8s\n",
            "828:\tlearn: 11059.5598003\ttotal: 8.68s\tremaining: 1.79s\n",
            "829:\tlearn: 11053.9175435\ttotal: 8.68s\tremaining: 1.78s\n",
            "830:\tlearn: 11050.0005301\ttotal: 8.68s\tremaining: 1.76s\n",
            "831:\tlearn: 11049.4378808\ttotal: 8.69s\tremaining: 1.75s\n",
            "832:\tlearn: 11045.6466223\ttotal: 8.69s\tremaining: 1.74s\n",
            "833:\tlearn: 11042.6444006\ttotal: 8.69s\tremaining: 1.73s\n",
            "834:\tlearn: 11036.7382245\ttotal: 8.69s\tremaining: 1.72s\n",
            "835:\tlearn: 11033.5314121\ttotal: 8.7s\tremaining: 1.71s\n",
            "836:\tlearn: 11029.4107019\ttotal: 8.7s\tremaining: 1.69s\n",
            "837:\tlearn: 11023.4844527\ttotal: 8.7s\tremaining: 1.68s\n",
            "838:\tlearn: 11019.8913895\ttotal: 8.7s\tremaining: 1.67s\n",
            "839:\tlearn: 11015.2903284\ttotal: 8.71s\tremaining: 1.66s\n",
            "840:\tlearn: 11011.5954051\ttotal: 8.71s\tremaining: 1.65s\n",
            "841:\tlearn: 11007.9981776\ttotal: 8.71s\tremaining: 1.63s\n",
            "842:\tlearn: 11004.4062597\ttotal: 8.71s\tremaining: 1.62s\n",
            "843:\tlearn: 11000.9169678\ttotal: 8.71s\tremaining: 1.61s\n",
            "844:\tlearn: 10992.1547944\ttotal: 8.72s\tremaining: 1.6s\n",
            "845:\tlearn: 10988.7529764\ttotal: 8.72s\tremaining: 1.59s\n",
            "846:\tlearn: 10977.7030095\ttotal: 8.72s\tremaining: 1.57s\n",
            "847:\tlearn: 10965.0215421\ttotal: 8.72s\tremaining: 1.56s\n",
            "848:\tlearn: 10962.2416620\ttotal: 8.73s\tremaining: 1.55s\n",
            "849:\tlearn: 10952.8951842\ttotal: 8.73s\tremaining: 1.54s\n",
            "850:\tlearn: 10951.9199743\ttotal: 8.74s\tremaining: 1.53s\n",
            "851:\tlearn: 10947.2143094\ttotal: 8.74s\tremaining: 1.52s\n",
            "852:\tlearn: 10936.6781531\ttotal: 8.74s\tremaining: 1.51s\n",
            "853:\tlearn: 10933.3391391\ttotal: 8.74s\tremaining: 1.5s\n",
            "854:\tlearn: 10930.1027235\ttotal: 8.76s\tremaining: 1.49s\n",
            "855:\tlearn: 10926.0057051\ttotal: 8.76s\tremaining: 1.47s\n",
            "856:\tlearn: 10916.6208311\ttotal: 8.77s\tremaining: 1.46s\n",
            "857:\tlearn: 10913.4047954\ttotal: 8.77s\tremaining: 1.45s\n",
            "858:\tlearn: 10909.4051361\ttotal: 8.78s\tremaining: 1.44s\n",
            "859:\tlearn: 10906.6707675\ttotal: 8.79s\tremaining: 1.43s\n",
            "860:\tlearn: 10904.8389442\ttotal: 8.79s\tremaining: 1.42s\n",
            "861:\tlearn: 10901.5937462\ttotal: 8.81s\tremaining: 1.41s\n",
            "862:\tlearn: 10891.7400461\ttotal: 8.81s\tremaining: 1.4s\n",
            "863:\tlearn: 10885.2821017\ttotal: 8.82s\tremaining: 1.39s\n",
            "864:\tlearn: 10879.1190993\ttotal: 8.82s\tremaining: 1.38s\n",
            "865:\tlearn: 10873.5920033\ttotal: 8.83s\tremaining: 1.37s\n",
            "866:\tlearn: 10866.1943543\ttotal: 8.84s\tremaining: 1.35s\n",
            "867:\tlearn: 10862.6543057\ttotal: 8.84s\tremaining: 1.34s\n",
            "868:\tlearn: 10859.3536284\ttotal: 8.85s\tremaining: 1.33s\n",
            "869:\tlearn: 10853.5971160\ttotal: 8.85s\tremaining: 1.32s\n",
            "870:\tlearn: 10844.0194656\ttotal: 8.86s\tremaining: 1.31s\n",
            "871:\tlearn: 10836.1618509\ttotal: 8.86s\tremaining: 1.3s\n",
            "872:\tlearn: 10827.3456341\ttotal: 8.86s\tremaining: 1.29s\n",
            "873:\tlearn: 10824.3447748\ttotal: 8.86s\tremaining: 1.28s\n",
            "874:\tlearn: 10816.1045625\ttotal: 8.87s\tremaining: 1.27s\n",
            "875:\tlearn: 10810.0874244\ttotal: 8.87s\tremaining: 1.25s\n",
            "876:\tlearn: 10805.8045600\ttotal: 8.87s\tremaining: 1.24s\n",
            "877:\tlearn: 10797.0946450\ttotal: 8.87s\tremaining: 1.23s\n",
            "878:\tlearn: 10784.3190868\ttotal: 8.87s\tremaining: 1.22s\n",
            "879:\tlearn: 10775.9029524\ttotal: 8.88s\tremaining: 1.21s\n",
            "880:\tlearn: 10772.9250250\ttotal: 8.88s\tremaining: 1.2s\n",
            "881:\tlearn: 10770.0406532\ttotal: 8.88s\tremaining: 1.19s\n",
            "882:\tlearn: 10763.7299820\ttotal: 8.88s\tremaining: 1.18s\n",
            "883:\tlearn: 10757.4945148\ttotal: 8.88s\tremaining: 1.17s\n",
            "884:\tlearn: 10752.2498301\ttotal: 8.89s\tremaining: 1.15s\n",
            "885:\tlearn: 10748.4442983\ttotal: 8.9s\tremaining: 1.15s\n",
            "886:\tlearn: 10740.2014749\ttotal: 8.91s\tremaining: 1.14s\n",
            "887:\tlearn: 10735.4805073\ttotal: 8.91s\tremaining: 1.12s\n",
            "888:\tlearn: 10731.7971921\ttotal: 8.92s\tremaining: 1.11s\n",
            "889:\tlearn: 10721.3521025\ttotal: 8.92s\tremaining: 1.1s\n",
            "890:\tlearn: 10714.4693468\ttotal: 8.92s\tremaining: 1.09s\n",
            "891:\tlearn: 10706.4039609\ttotal: 8.92s\tremaining: 1.08s\n",
            "892:\tlearn: 10697.2218756\ttotal: 8.93s\tremaining: 1.07s\n",
            "893:\tlearn: 10689.8520446\ttotal: 8.93s\tremaining: 1.06s\n",
            "894:\tlearn: 10684.5763019\ttotal: 8.93s\tremaining: 1.05s\n",
            "895:\tlearn: 10677.9083783\ttotal: 8.93s\tremaining: 1.04s\n",
            "896:\tlearn: 10673.1394554\ttotal: 8.94s\tremaining: 1.03s\n",
            "897:\tlearn: 10664.8564818\ttotal: 8.94s\tremaining: 1.01s\n",
            "898:\tlearn: 10655.5335504\ttotal: 8.94s\tremaining: 1s\n",
            "899:\tlearn: 10652.5806953\ttotal: 8.94s\tremaining: 994ms\n",
            "900:\tlearn: 10645.3743805\ttotal: 8.95s\tremaining: 983ms\n",
            "901:\tlearn: 10630.3920280\ttotal: 8.95s\tremaining: 972ms\n",
            "902:\tlearn: 10624.4387994\ttotal: 8.95s\tremaining: 961ms\n",
            "903:\tlearn: 10621.0817778\ttotal: 8.95s\tremaining: 951ms\n",
            "904:\tlearn: 10615.7752884\ttotal: 8.95s\tremaining: 940ms\n",
            "905:\tlearn: 10608.7297143\ttotal: 8.96s\tremaining: 929ms\n",
            "906:\tlearn: 10600.6800921\ttotal: 8.96s\tremaining: 919ms\n",
            "907:\tlearn: 10589.9656277\ttotal: 8.96s\tremaining: 908ms\n",
            "908:\tlearn: 10585.6680782\ttotal: 8.96s\tremaining: 897ms\n",
            "909:\tlearn: 10579.7811175\ttotal: 8.97s\tremaining: 888ms\n",
            "910:\tlearn: 10577.9903805\ttotal: 8.98s\tremaining: 877ms\n",
            "911:\tlearn: 10569.6205827\ttotal: 8.98s\tremaining: 867ms\n",
            "912:\tlearn: 10565.6487209\ttotal: 8.99s\tremaining: 856ms\n",
            "913:\tlearn: 10561.4124408\ttotal: 8.99s\tremaining: 846ms\n",
            "914:\tlearn: 10554.8987252\ttotal: 8.99s\tremaining: 835ms\n",
            "915:\tlearn: 10546.5626404\ttotal: 8.99s\tremaining: 825ms\n",
            "916:\tlearn: 10537.3309398\ttotal: 9.02s\tremaining: 816ms\n",
            "917:\tlearn: 10527.6947344\ttotal: 9.03s\tremaining: 806ms\n",
            "918:\tlearn: 10510.6882378\ttotal: 9.04s\tremaining: 797ms\n",
            "919:\tlearn: 10502.5513507\ttotal: 9.04s\tremaining: 786ms\n",
            "920:\tlearn: 10494.9888315\ttotal: 9.05s\tremaining: 776ms\n",
            "921:\tlearn: 10486.0890597\ttotal: 9.06s\tremaining: 766ms\n",
            "922:\tlearn: 10480.4875746\ttotal: 9.06s\tremaining: 756ms\n",
            "923:\tlearn: 10477.1002758\ttotal: 9.07s\tremaining: 746ms\n",
            "924:\tlearn: 10471.4885723\ttotal: 9.07s\tremaining: 736ms\n",
            "925:\tlearn: 10468.1544848\ttotal: 9.09s\tremaining: 726ms\n",
            "926:\tlearn: 10459.9278834\ttotal: 9.09s\tremaining: 716ms\n",
            "927:\tlearn: 10456.3652031\ttotal: 9.09s\tremaining: 705ms\n",
            "928:\tlearn: 10448.5709175\ttotal: 9.1s\tremaining: 695ms\n",
            "929:\tlearn: 10446.0677569\ttotal: 9.1s\tremaining: 685ms\n",
            "930:\tlearn: 10438.8470085\ttotal: 9.13s\tremaining: 676ms\n",
            "931:\tlearn: 10433.3995177\ttotal: 9.14s\tremaining: 667ms\n",
            "932:\tlearn: 10426.3755455\ttotal: 9.14s\tremaining: 656ms\n",
            "933:\tlearn: 10417.6149544\ttotal: 9.16s\tremaining: 647ms\n",
            "934:\tlearn: 10414.7807712\ttotal: 9.16s\tremaining: 637ms\n",
            "935:\tlearn: 10406.6180531\ttotal: 9.17s\tremaining: 627ms\n",
            "936:\tlearn: 10403.9002366\ttotal: 9.17s\tremaining: 617ms\n",
            "937:\tlearn: 10393.7320343\ttotal: 9.18s\tremaining: 607ms\n",
            "938:\tlearn: 10386.4649799\ttotal: 9.19s\tremaining: 597ms\n",
            "939:\tlearn: 10379.4840205\ttotal: 9.19s\tremaining: 587ms\n",
            "940:\tlearn: 10373.6546646\ttotal: 9.2s\tremaining: 577ms\n",
            "941:\tlearn: 10364.4794428\ttotal: 9.2s\tremaining: 567ms\n",
            "942:\tlearn: 10356.4021180\ttotal: 9.21s\tremaining: 556ms\n",
            "943:\tlearn: 10340.8804249\ttotal: 9.23s\tremaining: 548ms\n",
            "944:\tlearn: 10334.7161511\ttotal: 9.24s\tremaining: 538ms\n",
            "945:\tlearn: 10323.9323140\ttotal: 9.24s\tremaining: 528ms\n",
            "946:\tlearn: 10318.5056839\ttotal: 9.25s\tremaining: 518ms\n",
            "947:\tlearn: 10314.1655704\ttotal: 9.25s\tremaining: 508ms\n",
            "948:\tlearn: 10309.4371278\ttotal: 9.26s\tremaining: 498ms\n",
            "949:\tlearn: 10300.4418717\ttotal: 9.27s\tremaining: 488ms\n",
            "950:\tlearn: 10295.8263445\ttotal: 9.27s\tremaining: 477ms\n",
            "951:\tlearn: 10290.6659608\ttotal: 9.27s\tremaining: 467ms\n",
            "952:\tlearn: 10283.0033617\ttotal: 9.28s\tremaining: 458ms\n",
            "953:\tlearn: 10275.0969628\ttotal: 9.28s\tremaining: 447ms\n",
            "954:\tlearn: 10266.6189989\ttotal: 9.28s\tremaining: 437ms\n",
            "955:\tlearn: 10259.2933076\ttotal: 9.29s\tremaining: 428ms\n",
            "956:\tlearn: 10253.6225700\ttotal: 9.29s\tremaining: 417ms\n",
            "957:\tlearn: 10245.8296298\ttotal: 9.29s\tremaining: 407ms\n",
            "958:\tlearn: 10239.9403886\ttotal: 9.3s\tremaining: 397ms\n",
            "959:\tlearn: 10235.4343431\ttotal: 9.3s\tremaining: 388ms\n",
            "960:\tlearn: 10230.9115037\ttotal: 9.3s\tremaining: 378ms\n",
            "961:\tlearn: 10227.0747006\ttotal: 9.31s\tremaining: 368ms\n",
            "962:\tlearn: 10221.0390593\ttotal: 9.31s\tremaining: 358ms\n",
            "963:\tlearn: 10215.4116931\ttotal: 9.31s\tremaining: 348ms\n",
            "964:\tlearn: 10207.7985857\ttotal: 9.32s\tremaining: 338ms\n",
            "965:\tlearn: 10197.8207757\ttotal: 9.32s\tremaining: 328ms\n",
            "966:\tlearn: 10193.2174215\ttotal: 9.32s\tremaining: 318ms\n",
            "967:\tlearn: 10188.3443624\ttotal: 9.33s\tremaining: 308ms\n",
            "968:\tlearn: 10176.0345438\ttotal: 9.33s\tremaining: 299ms\n",
            "969:\tlearn: 10168.5744569\ttotal: 9.34s\tremaining: 289ms\n",
            "970:\tlearn: 10158.6608578\ttotal: 9.34s\tremaining: 279ms\n",
            "971:\tlearn: 10150.1692683\ttotal: 9.34s\tremaining: 269ms\n",
            "972:\tlearn: 10141.8865408\ttotal: 9.34s\tremaining: 259ms\n",
            "973:\tlearn: 10136.5902595\ttotal: 9.35s\tremaining: 250ms\n",
            "974:\tlearn: 10129.2876942\ttotal: 9.35s\tremaining: 240ms\n",
            "975:\tlearn: 10124.4863953\ttotal: 9.35s\tremaining: 230ms\n",
            "976:\tlearn: 10115.3695846\ttotal: 9.36s\tremaining: 220ms\n",
            "977:\tlearn: 10109.5647858\ttotal: 9.36s\tremaining: 211ms\n",
            "978:\tlearn: 10101.7171749\ttotal: 9.36s\tremaining: 201ms\n",
            "979:\tlearn: 10090.8982337\ttotal: 9.36s\tremaining: 191ms\n",
            "980:\tlearn: 10083.5749685\ttotal: 9.36s\tremaining: 181ms\n",
            "981:\tlearn: 10076.4114776\ttotal: 9.37s\tremaining: 172ms\n",
            "982:\tlearn: 10073.8306357\ttotal: 9.37s\tremaining: 162ms\n",
            "983:\tlearn: 10066.8798377\ttotal: 9.37s\tremaining: 152ms\n",
            "984:\tlearn: 10058.3169971\ttotal: 9.37s\tremaining: 143ms\n",
            "985:\tlearn: 10047.1943633\ttotal: 9.38s\tremaining: 133ms\n",
            "986:\tlearn: 10043.9213764\ttotal: 9.38s\tremaining: 124ms\n",
            "987:\tlearn: 10037.1644832\ttotal: 9.38s\tremaining: 114ms\n",
            "988:\tlearn: 10032.2665058\ttotal: 9.38s\tremaining: 104ms\n",
            "989:\tlearn: 10025.9807330\ttotal: 9.39s\tremaining: 94.8ms\n",
            "990:\tlearn: 10023.2612866\ttotal: 9.39s\tremaining: 85.3ms\n",
            "991:\tlearn: 10019.5949177\ttotal: 9.39s\tremaining: 75.7ms\n",
            "992:\tlearn: 10016.4696432\ttotal: 9.39s\tremaining: 66.2ms\n",
            "993:\tlearn: 10011.7570316\ttotal: 9.44s\tremaining: 57ms\n",
            "994:\tlearn: 10007.5367885\ttotal: 9.44s\tremaining: 47.4ms\n",
            "995:\tlearn: 10002.2499709\ttotal: 9.45s\tremaining: 37.9ms\n",
            "996:\tlearn: 9995.6872705\ttotal: 9.45s\tremaining: 28.4ms\n",
            "997:\tlearn: 9987.6187378\ttotal: 9.45s\tremaining: 18.9ms\n",
            "998:\tlearn: 9985.1395368\ttotal: 9.46s\tremaining: 9.46ms\n",
            "999:\tlearn: 9980.9341321\ttotal: 9.46s\tremaining: 0us\n"
          ]
        },
        {
          "output_type": "execute_result",
          "data": {
            "text/plain": [
              "0.7906929139689325"
            ]
          },
          "metadata": {},
          "execution_count": 30
        }
      ]
    },
    {
      "cell_type": "markdown",
      "source": [
        "# Conclusion\n",
        "Clearly, SVM model is giving better accuracy as the mean absolute error is the least among all the other regressor models i.e. 0.18 approx. To get much better results ensemble learning techniques like Bagging and Boosting can also be used."
      ],
      "metadata": {
        "id": "oc1DiXGILqEQ"
      }
    }
  ]
}